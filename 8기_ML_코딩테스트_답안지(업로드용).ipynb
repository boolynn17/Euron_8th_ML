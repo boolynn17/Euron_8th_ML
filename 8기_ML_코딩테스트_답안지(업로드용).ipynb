{
  "nbformat": 4,
  "nbformat_minor": 0,
  "metadata": {
    "colab": {
      "provenance": [],
      "collapsed_sections": [
        "GM5pXZtuTBqu",
        "d_FaIsr3dCfm",
        "Tp5PlDxAqK_c"
      ]
    },
    "kernelspec": {
      "name": "python3",
      "display_name": "Python 3"
    },
    "language_info": {
      "name": "python"
    }
  },
  "cells": [
    {
      "cell_type": "markdown",
      "source": [
        "# **1️⃣ 문제 1**\n"
      ],
      "metadata": {
        "id": "GM5pXZtuTBqu"
      }
    },
    {
      "cell_type": "markdown",
      "source": [
        "## **1-1. 제시문에 따라 전력 사용량을 입력 받고 적절한 작업을 수행해 주세요.(8점)**\n",
        "- 이화 마트는 총 결제 금액에 따라서 할인율이 달라진다. 할인은 다음과 같은 규칙으로 적용된다.\n",
        "  - 10만원 이하 결제 시: 할인율 5%\n",
        "  - 10만원 초과 30만원 이하 결제 시: 할인율 10%\n",
        "  - 30만원 초과 결제 시: 할인율 15%\n",
        "\n",
        "\n",
        "- 최종 결제 금액은 각 구간에 맞는 할인율을 적용한 금액을 계산한 후, 총 결제 금액에서 해당 할인 금액을 차감하여 계산한다\n",
        " - ex) 총 결제 금액 = 50000원 (10만원 이하 결제 시 )\n",
        " - 할인 금액은 50000 * 0.05 = 2500원 이다.\n",
        " - 최종 결제 금액 = 50000 - 2500 = 47500원 이다.\n",
        "\n",
        "- 위의 내용을 기반으로 총 결제 금액을 입력받으면 할인 후 최종 결제 금액을 출력하는 코드를 작성해 주세요.\n",
        "  - 총 결제 금액은 `total_price`에, 할인 금액은 `discount`에, 할인 후 최종 결제 금액은 `final_price`라는 이름의 변수에 저장해 주세요.\n",
        "\n"
      ],
      "metadata": {
        "id": "MOwQF6FKT-ML"
      }
    },
    {
      "cell_type": "markdown",
      "source": [
        "**📌조건**\n",
        "- `if`문 사용\n",
        "- `total_price`는 0 이상 100만원 이하의 정수"
      ],
      "metadata": {
        "id": "oTBxJsCTT_Ao"
      }
    },
    {
      "cell_type": "markdown",
      "source": [
        "**💚 Test Case**  \n",
        "- [예시 1]  \n",
        "  - 입력\n",
        "  ```\n",
        "  150000\n",
        "  ```\n",
        "  - 출력\n",
        "  ```\n",
        "   135000.0\n",
        "  ```\n",
        "\n",
        "\n",
        "- [예시 2]  \n",
        "  - 입력\n",
        "  ```\n",
        "   50000\n",
        "  ```\n",
        "  - 출력\n",
        "   ```\n",
        "    47500.0\n",
        "    ```\n"
      ],
      "metadata": {
        "id": "H0F-zhXwUBzr"
      }
    },
    {
      "cell_type": "code",
      "source": [
        "# 입력 받기\n",
        "total_price = float(input())\n",
        "\n",
        "### 답안 작성 ###\n",
        "\n",
        "# 할인 계산\n",
        "if total_price <= 100000:\n",
        "    discount = total_price * 0.05  # 10만원 이하: 5% 할인\n",
        "elif total_price <= 300000:\n",
        "    discount = total_price * 0.1  # 10만원 초과 30만원 이하: 10% 할인\n",
        "else:\n",
        "    discount = total_price * 0.15  # 30만원 초과: 15% 할인\n",
        "\n",
        "final_price = total_price - discount  # 할인 후 최종 결제 금액\n",
        "\n",
        "# 출력\n",
        "print(final_price)"
      ],
      "metadata": {
        "id": "lEId2kA2UIhv",
        "colab": {
          "base_uri": "https://localhost:8080/"
        },
        "outputId": "af81360b-b313-46f5-e2b9-358b4ddb83e1"
      },
      "execution_count": null,
      "outputs": [
        {
          "output_type": "stream",
          "name": "stdout",
          "text": [
            "150000\n",
            "135000.0\n"
          ]
        }
      ]
    },
    {
      "cell_type": "markdown",
      "source": [
        "## **1-2. 제시문에 따라 주어진 수의 팩토리얼 구하는 코드를 작성하세요.(10점)**\n",
        "- 주어진 `num`에 대해 `num`!(팩토리얼)을 구하는 코드를 작성하세요.\n",
        "- 팩토리얼은 주어진 수부터 1까지의 모든 정수를 곱한 값입니다.\n",
        "\n",
        "  ex)  \n",
        "  - 4! = 4 × 3 × 2 × 1 = 24\n",
        "  - 5! = 5 × 4 × 3 × 2 × 1 = 120\n",
        "  - 6! = 6 × 5 × 4 × 3 × 2 × 1 = 720\n",
        "\n",
        "\n",
        "  \n",
        "  - 입력:`num` (0 이상 20 이하의 정수)\n",
        "  -출력:\n",
        "주어진 `num`에 대해 계산된 팩토리얼 값\n"
      ],
      "metadata": {
        "id": "BZ8vHUP1Vw5Q"
      }
    },
    {
      "cell_type": "markdown",
      "source": [
        "**📌조건**\n",
        "- `while` 문을 사용하여 해결\n",
        "- 내장 함수는 `input`, `int`, `str`만 사용 가능\n",
        "- 팩토리얼 계산을 위한 내장 함수나 라이브러리 사용 금지 (`math.factorial` 등 사용 금지)"
      ],
      "metadata": {
        "id": "8akhIIndVxi1"
      }
    },
    {
      "cell_type": "markdown",
      "source": [
        "**💚 Test Case**  \n",
        "- [입력 예시]  \n",
        "```\n",
        "  5\n",
        "```\n",
        "\n",
        "- [출력 예시]  \n",
        "  ```\n",
        "  120\n",
        "  ```"
      ],
      "metadata": {
        "id": "dbuJ9qXrVx1-"
      }
    },
    {
      "cell_type": "code",
      "source": [
        "# 입력 받기\n",
        "num = int(input())\n",
        "\n",
        "### 답안 작성 ###\n",
        "# 초기 저장값 설정\n",
        "result = 1\n",
        "\n",
        "# while문을 사용하여 팩토리얼 계산\n",
        "while num > 0:\n",
        "    result *= num  # result에 num을 곱하기\n",
        "    num -= 1  # num을 1 감소시켜 반복\n",
        "\n",
        "# 출력\n",
        "print(result)"
      ],
      "metadata": {
        "id": "LespnGa5VyHx",
        "colab": {
          "base_uri": "https://localhost:8080/"
        },
        "outputId": "075fd56b-459d-4343-a4a9-5a30925093aa"
      },
      "execution_count": null,
      "outputs": [
        {
          "output_type": "stream",
          "name": "stdout",
          "text": [
            "5\n",
            "120\n"
          ]
        }
      ]
    },
    {
      "cell_type": "markdown",
      "source": [
        "## **1-3. 입력받은 수의 약수를 출력해 주세요 (12점)**\n",
        "- 자연수 `mynum`을 입력받고, 그 수의 약수를 모두 출력하는 프로그램을 작성하세요.\n",
        "- 단, 약수는 1부터 `mynum`까지의 수 중에서 `mynum`을 나누어 떨어지게 하는 수입니다.\n",
        "  "
      ],
      "metadata": {
        "id": "PZvpdANfV9xV"
      }
    },
    {
      "cell_type": "markdown",
      "source": [
        "**📌조건**\n",
        "- 반복문과 조건문을 적절히 사용하여 해결\n",
        "- 입력으로 주어지는 `mynum`은 2 이상인 자연수\n",
        "- 출력 형식 :\n",
        " - 약수는 각 줄에 하나씩 출력\n",
        " - 1과 `mynum`은 반드시 포함\n",
        " - 약수는 오름차순으로 출력\n",
        " - 약수는 중복 없이 출력\n",
        "\n"
      ],
      "metadata": {
        "id": "VO4Qms1dWCLj"
      }
    },
    {
      "cell_type": "markdown",
      "source": [
        "**💚 Test Case**  \n",
        "- [입력 예시]  \n",
        "  ```\n",
        "  6\n",
        "  ```\n",
        "\n",
        "  \n",
        "- [출력 예시]  \n",
        "```\n",
        "1  \n",
        "2  \n",
        "3  \n",
        "6\n",
        "```\n",
        "\n"
      ],
      "metadata": {
        "id": "xFq_MCM5WFLF"
      }
    },
    {
      "cell_type": "code",
      "source": [
        "# 입력 받기\n",
        "mynum = int(input())\n",
        "\n",
        "### 답안 작성 ###\n",
        "# 1부터 mynum까지의 수를 반복\n",
        "for i in range(1, mynum + 1):\n",
        "    if mynum % i == 0:  # i가 mynum의 약수일 때\n",
        "        print(i)\n",
        "        continue  # 다음 i로 넘어가기"
      ],
      "metadata": {
        "id": "iSRlzL9sV88E",
        "colab": {
          "base_uri": "https://localhost:8080/"
        },
        "outputId": "c40e4c5d-6887-43ac-e4a6-b9103bdc9d44"
      },
      "execution_count": null,
      "outputs": [
        {
          "output_type": "stream",
          "name": "stdout",
          "text": [
            "6\n",
            "1\n",
            "2\n",
            "3\n",
            "6\n"
          ]
        }
      ]
    },
    {
      "cell_type": "markdown",
      "source": [
        "# **2️⃣ 문제 2**"
      ],
      "metadata": {
        "id": "JoDpQvdEsI2u"
      }
    },
    {
      "cell_type": "markdown",
      "source": [
        "## **2-1. 제시문에 따라 문제를 해결해주세요. (10점)**\n",
        "- 1부터 100까지의 숫자 100개가 포함된 `numbers` 리스트를 생성해주세요.\n",
        "- `numbers` 리스트를 이용하여 조건에 맞는 수를 추출하고, 각 변수에 저장해주세요.\n",
        "  1. `first_20`: 리스트에서 첫 번째부터 20번째까지의 수\n",
        "  2. `last_10`: 뒤에서부터 10개의 수\n",
        "  3. `last_5_step`: 뒤에서부터 5씩 간격을 둔 수\n",
        "\n",
        "📌 **조건**\n",
        "- 사용자가 직접 숫자를 입력하는 방식 사용 불가 (사용시 **0점** 처리)\n",
        "\n",
        "\n",
        "```\n",
        "# 직접 숫자를 입력하는 방식 예시 코드 (해당 방식으로 코드 작성 시 0점 처리)\n",
        "\n",
        "numbers = [1, 2, 3, ..., 100]\n",
        "last_10 = [91, 92, 93, ..., 100]\n",
        "\n",
        "```\n",
        "- `reversed()` 사용 불가 (사용시 **0점** 처리)\n",
        "\n"
      ],
      "metadata": {
        "id": "PKi0_u0UOrrk"
      }
    },
    {
      "cell_type": "markdown",
      "source": [
        "**💚 Test Case**  \n",
        "  \n",
        "- 출력\n",
        "```\n",
        "첫 번째부터 20번째 수:\n",
        " [1, 2, 3, 4, 5, 6, 7, 8, 9, 10, 11, 12, 13, 14, 15, 16, 17, 18, 19, 20]\n",
        "뒤에서부터 10개의 숫자:\n",
        " [91, 92, 93, 94, 95, 96, 97, 98, 99, 100]\n",
        "뒤에서부터 5씩 간격을 둔 숫자:\n",
        " [100, 95, 90, 85, 80, 75, 70, 65, 60, 55, 50, 45, 40, 35, 30, 25, 20, 15, 10, 5]\n",
        "```"
      ],
      "metadata": {
        "id": "a7rIDdzSOrrl"
      }
    },
    {
      "cell_type": "code",
      "source": [
        "### 예시 답안\n",
        "\n",
        "# 1부터 100까지의 수가 포함된 numbers 리스트 생성 (1점)\n",
        "numbers = list(range(1, 101))\n",
        "\n",
        "# 첫 번째부터 20번째까지의 수를 저장하기 (2점)\n",
        "first_20 = numbers[:20]\n",
        "\n",
        "# 뒤에서부터 10개의 수를 저장하기 (오름차순) (3점)\n",
        "last_10 = numbers[-10:]\n",
        "\n",
        "# 뒤에서부터 5씩 간격을 둔 수를 저장하기 (내림차순) (4점)\n",
        "last_step_5 = numbers[::-5]\n",
        "\n",
        "# 결과 출력\n",
        "print(\"첫 번째부터 20번째 수:\\n\", first_20)\n",
        "print(\"\\n뒤에서부터 10개의 숫자:\\n\", last_10)\n",
        "print(\"\\n뒤에서부터 5씩 간격을 둔 숫자:\\n\", last_step_5)"
      ],
      "metadata": {
        "id": "oohDkSo6Orrm",
        "colab": {
          "base_uri": "https://localhost:8080/"
        },
        "outputId": "0c4e0c05-7586-4c26-8c31-b13b9c1c04a0"
      },
      "execution_count": null,
      "outputs": [
        {
          "output_type": "stream",
          "name": "stdout",
          "text": [
            "첫 번째부터 20번째 수:\n",
            " [1, 2, 3, 4, 5, 6, 7, 8, 9, 10, 11, 12, 13, 14, 15, 16, 17, 18, 19, 20]\n",
            "\n",
            "뒤에서부터 10개의 숫자:\n",
            " [91, 92, 93, 94, 95, 96, 97, 98, 99, 100]\n",
            "\n",
            "뒤에서부터 5씩 간격을 둔 숫자:\n",
            " [100, 95, 90, 85, 80, 75, 70, 65, 60, 55, 50, 45, 40, 35, 30, 25, 20, 15, 10, 5]\n"
          ]
        }
      ]
    },
    {
      "cell_type": "markdown",
      "source": [
        "## **2-2. 제시문에 따라 문제를 해결해주세요. (10점)**\n",
        "- 사용자에게 입력받은 숫자들이 연속 증가 리스트인지 확인하세요.\n",
        "  - 연속 증가 리스트는 **각 원소가 그 이전 원소보다 큰** 리스트입니다.\n",
        "  - 사용자는 2개 이상의 정수를 입력한다고 가정합니다.\n",
        "  - 각 숫자는 공백으로 구분되어 입력됩니다.\n",
        "- 연속 증가 리스트가 아니라면, 연속 증가하지 않는 첫 번째 위치의 인덱스와 원소를 출력하세요.\n",
        "  - 리스트의 인덱스는 0부터 시작하여 1씩 증가합니다."
      ],
      "metadata": {
        "id": "3PVU0jyobbAj"
      }
    },
    {
      "cell_type": "markdown",
      "source": [
        "**💚 Test Case**  \n",
        "  \n",
        "[예시 1]\n",
        "- 입력\n",
        "```\n",
        "1 4 4 9 20\n",
        "```\n",
        "\n",
        "- 출력\n",
        "```\n",
        "연속 증가 리스트가 아닙니다.\n",
        "인덱스: 2, 원소: 4\n",
        "```\n",
        "\n",
        "[예시 2]\n",
        "- 입력\n",
        "```\n",
        "6 2 7 3 10 11\n",
        "```\n",
        "\n",
        "- 출력\n",
        "```\n",
        "연속 증가 리스트가 아닙니다.\n",
        "인덱스: 1, 원소: 2\n",
        "```\n",
        "\n",
        "[예시 3]\n",
        "- 입력\n",
        "```\n",
        "3 5 9 17 29 30\n",
        "```\n",
        "\n",
        "- 출력\n",
        "```\n",
        "연속 증가 리스트가 맞습니다.\n",
        "```"
      ],
      "metadata": {
        "id": "i-mAA3fUbbAk"
      }
    },
    {
      "cell_type": "code",
      "source": [
        "### 예시 답안\n",
        "# 숫자 리스트 입력 (각 숫자는 공백으로 구분되어 입력됩니다.)\n",
        "numbers = list(map(int, input().split()))\n",
        "\n",
        "# 연속 증가 리스트인지 확인하기\n",
        "## 연속 증가 리스트가 아닐 경우, 연속 증가하지 않는 첫 번째 위치와 숫자 출력하기\n",
        "for i in range(1, len(numbers)):\n",
        "    if numbers[i] <= numbers[i-1]:\n",
        "        print(f\"연속 증가 리스트가 아닙니다.\\n인덱스: {i}, 원소: {numbers[i]}\")\n",
        "        break\n",
        "else:\n",
        "    print(\"연속 증가 리스트가 맞습니다.\")"
      ],
      "metadata": {
        "id": "rQ7Y6mOybbAl",
        "colab": {
          "base_uri": "https://localhost:8080/"
        },
        "outputId": "5770a5c6-9fba-4de2-95ef-fb23a260f37d"
      },
      "execution_count": null,
      "outputs": [
        {
          "output_type": "stream",
          "name": "stdout",
          "text": [
            "1 4 4 9 20\n",
            "연속 증가 리스트가 아닙니다.\n",
            "인덱스: 2, 원소: 4\n"
          ]
        }
      ]
    },
    {
      "cell_type": "markdown",
      "source": [
        "## **2-3. 제시문에 따라 문제를 해결해주세요. (10점)**\n",
        "- 사용자로부터 정수 하나를 입력받아 변수 `n`에 저장하세요.\n",
        "- 사용자로부터 5개의 단어를 입력받아 `words` 리스트에 저장하세요.\n",
        "- `words` 리스트의 단어 중 길이가 **n 이상**인 단어로만 구성된 부분 리스트 `long_words` 리스트를 만들어주세요.\n",
        "- `long_words` 리스트에 들어있는 단어들의 길이의 합을 계산하고 변수 `total_len`에 저장하세요.\n",
        "- `long_words` 리스트의 단어들을 알파벳순으로 정렬한 `sorted_long_words` 리스트를 만들어주세요."
      ],
      "metadata": {
        "id": "cJ0Dc-2BlmP7"
      }
    },
    {
      "cell_type": "markdown",
      "source": [
        "**💚 Test Case**  \n",
        "  \n",
        "[예시 1]\n",
        "- 입력\n",
        "```\n",
        "8\n",
        "one\n",
        "two\n",
        "three\n",
        "four\n",
        "five\n",
        "```\n",
        "\n",
        "- 출력\n",
        "```\n",
        "long_words: []\n",
        "long_words 단어 길이 총합: 0\n",
        "sorted_long_words: []\n",
        "```\n",
        "\n",
        "[예시 2]\n",
        "- 입력\n",
        "```\n",
        "5\n",
        "one\n",
        "four\n",
        "second\n",
        "fifteen\n",
        "eleven\n",
        "```\n",
        "\n",
        "- 출력\n",
        "```\n",
        "long_words: ['second', 'fifteen', 'eleven']\n",
        "long_words 단어 길이 총합: 19\n",
        "sorted_long_words: ['eleven', 'fifteen', 'second']\n",
        "```"
      ],
      "metadata": {
        "id": "xgJMqYXDsApF"
      }
    },
    {
      "cell_type": "code",
      "source": [
        "### 예시 답안\n",
        "\n",
        "## 입력 부분\n",
        "# 단어를 저장할 리스트\n",
        "words = []\n",
        "\n",
        "# 사용자로부터 변수 n을 입력받기\n",
        "n = int(input('숫자 입력: '))\n",
        "\n",
        "# 사용자로부터 5개의 단어를 입력받아 words 리스트에 저장하기\n",
        "for i in range(5):\n",
        "  words.append(input('단어 입력: '))"
      ],
      "metadata": {
        "id": "J6qt_dv0pCPj",
        "colab": {
          "base_uri": "https://localhost:8080/"
        },
        "outputId": "f41b9ddf-c995-42ce-c178-86d2de8f2b54"
      },
      "execution_count": null,
      "outputs": [
        {
          "name": "stdout",
          "output_type": "stream",
          "text": [
            "숫자 입력: 5\n",
            "단어 입력: one\n",
            "단어 입력: four\n",
            "단어 입력: second\n",
            "단어 입력: fifteen\n",
            "단어 입력: eleven\n"
          ]
        }
      ]
    },
    {
      "cell_type": "code",
      "source": [
        "## 출력 부분\n",
        "# words 리스트 중에서 길이가 n 이상인 단어로만 구성된 long words 리스트 생성하기\n",
        "long_words = [word for word in words if len(word)>=n]\n",
        "\n",
        "# long_words 리스트 출력하기\n",
        "print(long_words)\n",
        "\n",
        "# long_words 리스트에 들어있는 단어들의 길이의 합을 계산하기\n",
        "total_len = 0\n",
        "for word in long_words:\n",
        "  total_len += len(word)\n",
        "# total_len = sum(len(word) for word in long_words)\n",
        "\n",
        "# total_len 출력하기\n",
        "print(f\"long_words 단어 길이 총합: {total_len}\")\n",
        "\n",
        "# long_words 리스트의 단어들을 알파벳순으로 정렬한 sorted_long_words 리스트 생성하기\n",
        "sorted_long_words = sorted(long_words)\n",
        "\n",
        "# sorted_long_words 출력하기\n",
        "print(sorted_long_words)"
      ],
      "metadata": {
        "id": "nC0FmyO0HSm1",
        "colab": {
          "base_uri": "https://localhost:8080/"
        },
        "outputId": "7dce57b6-ef69-4470-ffe3-6afdc7ff1c4a"
      },
      "execution_count": null,
      "outputs": [
        {
          "output_type": "stream",
          "name": "stdout",
          "text": [
            "['second', 'fifteen', 'eleven']\n",
            "long_words 단어 길이 총합: 19\n",
            "['eleven', 'fifteen', 'second']\n"
          ]
        }
      ]
    },
    {
      "cell_type": "markdown",
      "source": [
        "## **2-4. 제시문에 따라 문제에 대한 답을 제시하고 해결해주세요. (10점)**\n",
        "- 다음과 같이 학생별 각 과목의 점수가 담긴 이차원 데이터가 주어졌습니다.\n",
        "\n",
        "  \\begin{array}{|c|c|c|c|}\n",
        "  \\hline\n",
        "  \\text{번호} & \\text{국어} & \\text{영어} & \\text{수학} \\\\\n",
        "  \\hline\n",
        "  1 & 60 & 85 & 50 \\\\\n",
        "  2 & 20 & 40 & 30 \\\\\n",
        "  3 & 100 & 80 & 95 \\\\\n",
        "  \\hline\n",
        "  \\end{array}\n",
        "\n",
        "- 이 문제의 목표는 학생별 총점과 각 과목의 최고점을 계산하는 것입니다."
      ],
      "metadata": {
        "id": "GxmXfV5Emlcs"
      }
    },
    {
      "cell_type": "markdown",
      "source": [
        "### **2-4-1. 주관식 질문 (2점)**\n",
        "- 화연이는 데이터를 이차원 리스트로 저장하기 위해 다음과 같은 파이썬 코드를 작성했습니다.\n",
        "  ```\n",
        "  # 점수 데이터가 담긴 이차원 리스트\n",
        "  scores = [\n",
        "      [\"60\", \"85\", \"50\"],\n",
        "      [\"20\", \"40\", \"30\"],\n",
        "      [\"100\", \"80\", \"95\"]\n",
        "  ]\n",
        "  ```\n",
        "\n",
        "- 화연이의 코드에서는 `scores` 데이터가 **점수 계산에 적합하지 않은 형태로** 저장되어 있습니다.\n",
        "\n",
        "❓ **그 이유는 무엇일까요? 이 문제를 해결하려면 어떻게 해야 하는지 해결 방법을 간략하게 설명해주세요.**"
      ],
      "metadata": {
        "id": "LIzy99ionCXO"
      }
    },
    {
      "cell_type": "markdown",
      "source": [
        "- **예시 답안**\n",
        "\n",
        "주어진 데이터는 점수가 숫자가 아닌 `문자열`로 저장되어 있습니다.\n",
        "\n",
        "이를 해결하기 위해서는 `정수형`으로 `형변환`한 후에 계산을 진행해야 합니다."
      ],
      "metadata": {
        "id": "039VyiyiqnEo"
      }
    },
    {
      "cell_type": "markdown",
      "source": [
        "### **2-4-2. 코드 작성 (8점)**\n",
        "\n",
        "- 각 학생별 총점을 계산해주세요.\n",
        "  - **🔍힌트:** 각 학생의 점수는 가로 방향(=한 행)에 나열되어 있습니다.\n",
        "- 과목별 최고점을 계산해주세요.\n",
        "  - **🔍힌트:** 각 과목의 점수는 세로 방향(=각 열)에 나열되어 있습니다."
      ],
      "metadata": {
        "id": "cSORXhwTpwPQ"
      }
    },
    {
      "cell_type": "markdown",
      "source": [
        "**💚 Test Case**  \n",
        "\n",
        "- 출력\n",
        "```\n",
        "학생별 총점: [195, 90, 275]\n",
        "과목별 최고점: [100, 85, 95]\n",
        "```"
      ],
      "metadata": {
        "id": "RxRIw3hRmlcu"
      }
    },
    {
      "cell_type": "code",
      "source": [
        "### 예시 답안\n",
        "# 점수 데이터가 담긴 이차원 리스트\n",
        "scores = [\n",
        "    [\"60\", \"85\", \"50\"],\n",
        "    [\"20\", \"40\", \"30\"],\n",
        "    [\"100\", \"80\", \"95\"]\n",
        "]\n",
        "\n",
        "# 2-4-1번의 문제를 해결하여 scores 이차원 리스트를 재정의한 scores_new 생성하기\n",
        "## 코드로 구현하면 2점, 직접 int로 리스트 만들면 1점\n",
        "scores_new = [list(map(int, student_scores)) for student_scores in scores]\n",
        "\n",
        "# 학생별 총점을 구하고 total_scores 리스트에 저장하기\n",
        "total_scores = [sum(student) for student in scores_new]\n",
        "\n",
        "print(f\"학생별 총점: {total_scores}\")\n",
        "\n",
        "# 과목별 최고점을 구하고 max_scores 리스트에 저장하기\n",
        "max_scores = []\n",
        "for i in range(len(scores_new[0])):\n",
        "  max_scores.append(max(score[i] for score in scores_new))\n",
        "# max_scores = [max(subject) for subject in zip(*scores_new)]\n",
        "\n",
        "print(f\"과목별 최고점: {max_scores}\")"
      ],
      "metadata": {
        "id": "pSCETW048vPo"
      },
      "execution_count": null,
      "outputs": []
    },
    {
      "cell_type": "markdown",
      "source": [
        "# **3️⃣ 문제 3 (30점)**"
      ],
      "metadata": {
        "id": "d_FaIsr3dCfm"
      }
    },
    {
      "cell_type": "markdown",
      "source": [
        "## **3-1. 제시문에 따라 문제를 해결해 주세요. (7점)**"
      ],
      "metadata": {
        "id": "xvFA2RcHpxk4"
      }
    },
    {
      "cell_type": "markdown",
      "source": [
        "### **제시문**\n",
        "- 아래 정의된 함수(`multiply_numbers`)는 두 수를 입력받아 두 수의 곱을 출력하고, 그 값을 반환해주는 함수입니다.\n",
        "  ```python\n",
        "    ## 함수 정의\n",
        "    def multiply_numbers(a, b):\n",
        "        result = a * b\n",
        "        print(result)\n",
        "  ```\n",
        "\n",
        "- 이제, 입력을 받아 직사각형의 넓이를 계산해 봅시다.\n",
        "  ```python\n",
        "    ## 함수 호출 및 실행\n",
        "    a, b = map(int, input('두 수를 공백으로 구분하여 입력하세요: ').split())\n",
        "    result = multiply_numbers(a, b)\n",
        "\n",
        "    print()\n",
        "\n",
        "    print('두 수의 곱: ', result)\n",
        "  ```\n",
        "\n",
        "  ```\n",
        "    두 수를 공백으로 구분하여 입력하세요: 5 7\n",
        "    35\n",
        "\n",
        "    두 수의 곱:  None\n",
        "  ```\n",
        "\n",
        "  코드를 실행한 결과, 분명히 중간에는 곱셈이 제대로 출력됐는데, 마지막에는 결과가 None이 나오네요😭\n"
      ],
      "metadata": {
        "id": "ES9v-JZrdCfm"
      }
    },
    {
      "cell_type": "markdown",
      "source": [
        "### **3-1-1.(4점)**\n",
        "- 아래 셀에서 정의된 함수를 수정하여 함수가 정상적으로 동작할 수 있도록 해주세요.  "
      ],
      "metadata": {
        "id": "--g7dyyVdCfm"
      }
    },
    {
      "cell_type": "markdown",
      "source": [
        "**📌조건**\n",
        "- 함수 \"정의\" 부분만 수정하셔야 합니다.\n",
        "  - `호출 및 실행` 부분을 수정하시면 안됩니다."
      ],
      "metadata": {
        "id": "66-EG2EDUks6"
      }
    },
    {
      "cell_type": "markdown",
      "source": [
        "**💚 Test Case**  \n",
        "- [입력 예시 1]  \n",
        "  두 수를 공백으로 구분하여 입력하세요: 5 7\n",
        "  \n",
        "- [출력 예시 1]  \n",
        "  두 수의 곱:  35"
      ],
      "metadata": {
        "id": "T-jeA7UQUkir"
      }
    },
    {
      "cell_type": "code",
      "source": [
        "#예시답안\n",
        "## 함수 정의\n",
        "def multiply_numbers(a, b):\n",
        "    result = a * b\n",
        "    print(result)\n",
        "    return result  # 결과 값을 반환하도록 수정\n"
      ],
      "metadata": {
        "id": "nLKa3_LdbMU4"
      },
      "execution_count": null,
      "outputs": []
    },
    {
      "cell_type": "code",
      "source": [
        "### 함수 호출 및 실행\n",
        "# 해당 부분은 수정하시면 안됩니다.\n",
        "\n",
        "# 실행해 주세요!\n",
        "\n",
        "a, b = map(int, input('두 수를 공백으로 구분하여 입력하세요: ').split())\n",
        "result = multiply_numbers(a, b)\n",
        "\n",
        "print()\n",
        "\n",
        "print('두 수의 곱: ', result)"
      ],
      "metadata": {
        "id": "kE9PoQCEc0Cr"
      },
      "execution_count": null,
      "outputs": []
    },
    {
      "cell_type": "markdown",
      "source": [
        "### **3-1-2.(3점)**\n",
        "- 3-1-1의 코드를  위와 같이 수정하신 이유를 2~3줄 정도로 간단히 설명해 주세요.\n",
        "\n",
        "(예시답안)\n",
        "- 기존 함수는 print(result)를 통해서 곱셈 결과를 출력했지만, 반환(return)하지 않았기에 오류가 발생하였습니다. 따라서, return result를 추가하여 함수 호출 시 결과값이 올바른 곱셈 값이 반환되도록 수정하였습니다.\n",
        "- print(result)는 단순히 결과를 출력할 뿐, 함수의 반환값이 없기 때문에 multiply_numbers(a, b)의 결과는 None이 됩니다. 반면, return을 사용하면 함수 실행 결과를 반환하기에 변수로 저장하거나 다른 연산에 활용할 수 있습니다. 따라서, return result를 추가하여 함수가 계산한 값을 반환하도록 수정했습니다."
      ],
      "metadata": {
        "id": "_o9ggNzBRF5q"
      }
    },
    {
      "cell_type": "markdown",
      "source": [
        "**💡 답안**  \n",
        "(마크다운 셀을 풀고 답안을 작성해 주세요!)  \n"
      ],
      "metadata": {
        "id": "0BjKKfcLdCfn"
      }
    },
    {
      "cell_type": "markdown",
      "source": [],
      "metadata": {
        "id": "jjx6JMXAkmN5"
      }
    },
    {
      "cell_type": "markdown",
      "metadata": {
        "id": "WG7tiZRuKPlI"
      },
      "source": [
        "## **3-2. 문제를 읽고, 알맞은 답안을 작성해주세요. (10점)**\n"
      ]
    },
    {
      "cell_type": "markdown",
      "source": [
        "\n",
        "화연이의 가계부 💸\n",
        "\n",
        "개강이 다가오면서 가계부 관리가 필요하다고 느낀 화연이!\n",
        "\n"
      ],
      "metadata": {
        "id": "Y2yMlgiDk1B8"
      }
    },
    {
      "cell_type": "markdown",
      "source": [
        "### **3-2-1 (7점)**\n",
        "\n",
        "- 화연이는 아래의 함수들을 작성하고자 합니다.\n",
        "    - `expense(use, money)` 함수는 지출을 기록하는 함수로, 돈의 사용처(문자열)를 use로 사용 금액을 money로 입력받습니다. 이 때 아래 출력 예시와 같은 문구도 함께 출력하도록 작성해주세요.\n",
        "    - `income(source, money)` 함수는 입금을 기록하는 함수로, 돈의 출처(문자열)를 source로 입금 금액을 money로 입력받습니다 이 때 아래 출력 예시와 같은 문구도 함께 출력하도록 작성해주세요.\n",
        "    - `stop_writing()` 함수는 가계부 작성을 멈추고 현재 잔고를 출력해줍니다."
      ],
      "metadata": {
        "id": "jcR-_6GM61Yx"
      }
    },
    {
      "cell_type": "markdown",
      "source": [
        "**💚 Test Case**  \n",
        "- [예시 1]  \n",
        "  - 입력\n",
        "  ```\n",
        "  income(\"2월 알바비\", 400000)\n",
        "  expense(\"이화상점 아이스티노\", 3700)\n",
        "  expense(\"학잠 구매\", 35000)\n",
        "  stop_writing()\n",
        "  ```\n",
        "\n",
        "  - 출력\n",
        "  ```\n",
        "  2월 알바비로 400000원이 입금되어 현재 잔고는 401000원입니다.\n",
        "  이화상점 아이스티노 지출로 3700원이 나가 현재 잔고는 397300원입니다.\n",
        "  학잠 구매 지출로 35000원이 나가 현재 잔고는 362300원입니다.\n",
        "  현재 잔고는 362300원입니다.\n",
        "  ```\n"
      ],
      "metadata": {
        "id": "KXgtC31LEV-k"
      }
    },
    {
      "cell_type": "code",
      "source": [
        "#예시답안\n",
        "account_amount = 1000  # 계좌 초기 잔액\n",
        "\n",
        "def income(source, money):\n",
        "    global account_amount\n",
        "    account_amount += money\n",
        "    print(f\"{source}로 {money}원이 입금되어 현재 잔고는 {account_amount}원입니다.\")\n",
        "\n",
        "def expense(use, money):\n",
        "    global account_amount\n",
        "    account_amount -= money\n",
        "    print(f\"{use} 지출로 {money}원이 나가 현재 잔고는 {account_amount}원입니다.\")\n",
        "\n"
      ],
      "metadata": {
        "id": "HKCqNOqw0B7W"
      },
      "execution_count": null,
      "outputs": []
    },
    {
      "cell_type": "code",
      "source": [
        "# 아래는 고치지 말아주세요\n",
        "def stop_writing():\n",
        "    print(f\"현재 잔고는 {account_amount}원입니다. \")\n",
        "\n",
        "income(\"2월 알바비\", 400000)\n",
        "expense(\"이화상점 아이스티노\", 3700)\n",
        "expense(\"학잠 구매\", 35000)\n",
        "stop_writing()"
      ],
      "metadata": {
        "id": "BUSwKsLH3Dwq",
        "colab": {
          "base_uri": "https://localhost:8080/"
        },
        "outputId": "6f7b0e70-455f-4036-8937-81df6a79b885"
      },
      "execution_count": null,
      "outputs": [
        {
          "output_type": "stream",
          "name": "stdout",
          "text": [
            "2월 알바비로 400000원이 입금되어 현재 잔고는 401000원입니다.\n",
            "이화상점 아이스티노 지출로 3700원이 나가 현재 잔고는 397300원입니다.\n",
            "학잠 구매 지출로 35000원이 나가 현재 잔고는 362300원입니다.\n",
            "현재 잔고는 362300원입니다. \n"
          ]
        }
      ]
    },
    {
      "cell_type": "markdown",
      "source": [],
      "metadata": {
        "id": "v2x7MAvOkFm3"
      }
    },
    {
      "cell_type": "markdown",
      "source": [
        "### **3-2-2.(3점)**\n",
        "- 함수 구현을 위와 같이 정의하신 이유를 2~3줄 정도로 간단히 설명해 주세요.\n",
        "\n",
        "(예시답안)\n",
        "- 함수를 위와 같이 정의한 이유는 전역 변수인 account_amount를 사용하여 잔고를 관리해야 하기 때문입니다. income 함수와 expense 함수는 잔고를 업데이트하며, 각 함수는 현재 잔고를 출력하도록 구현하였습니다.\n",
        "- 파이썬에서 함수 내부에서 변수를 수정하면 기본적으로 local 변수로 인식되므로, 함수 밖에서 정의된 account_amount를 함수 내에서 수정해도 새로운 local 변수로 생성되어, 기존에 있던 account_amount를 수정할 순 없습니다. 따라서 account_amount를 직접 변경하려면 global 변수를 사용해야 합니다. 따라서 global 변수로 account_amount를 선언했습니다."
      ],
      "metadata": {
        "id": "7mwQg1ozEV-k"
      }
    },
    {
      "cell_type": "markdown",
      "source": [
        "**💡 답안**  \n",
        "(마크다운 셀을 풀고 답안을 작성해 주세요!)  \n"
      ],
      "metadata": {
        "id": "Mzvc91u7T2Dl"
      }
    },
    {
      "cell_type": "markdown",
      "source": [],
      "metadata": {
        "id": "4GfWgV_2j2vq"
      }
    },
    {
      "cell_type": "markdown",
      "metadata": {
        "id": "uVwD-pvNdCfo"
      },
      "source": [
        "## **3-3. 문제를 읽고, 각 문제에 대해 알맞은 답안을 작성해주세요. (13점)**\n"
      ]
    },
    {
      "cell_type": "markdown",
      "source": [
        "- 여러분은 주어진 숫자 n에 대해, n번째 피보나치 수열의 값 f(n)을 반환하는 함수를 두 가지 방식으로 구현하고자 합니다.  \n",
        "1. 재귀 함수를 활용한 `fibonacci_recursive`\n",
        "2. 반복문을 활용한 `fibonacci_iterative`"
      ],
      "metadata": {
        "id": "XrjsknAaXdVw"
      }
    },
    {
      "cell_type": "markdown",
      "source": [
        "⭐ 피보나치 수열이란?\n",
        "\n",
        "각 항이 바로 앞 두 항의 합으로 이루어진 수열입니다.\n",
        "피보나치 수열은 다음의 규칙을 따릅니다.\n",
        "\n",
        "첫 번째 항: 1\n",
        "\n",
        "두 번째 항 : 1\n",
        "\n",
        "세 번째 항 : 2 (첫 번째 항 1 + 두 번째 항 1)\n",
        "\n",
        "\n",
        "피보나치 수열의 예시 : 1, 1, 2, 3, 5, 8, 13, 21, ..."
      ],
      "metadata": {
        "id": "zWld4Y6VF2Th"
      }
    },
    {
      "cell_type": "markdown",
      "source": [
        "**💚 Test Case**\n",
        "- [입력 예시 1]  \n",
        "  5  \n",
        "  [출력 예시 1]  \n",
        "  5\n",
        "  \n",
        "- [입력 예시 2]  \n",
        "  7  \n",
        "  [출력 예시 2]  \n",
        "  13\n",
        "  \n",
        "- [입력 예시 3]  \n",
        "  2  \n",
        "  [출력 예시 3]  \n",
        "  1"
      ],
      "metadata": {
        "id": "4RcqQKDKOf-6"
      }
    },
    {
      "cell_type": "markdown",
      "source": [
        "### **3-3-1 (7점)**\n",
        "주어진 숫자 n에 대해, n번째 피보나치 수열의 값 f(n)을 반환하는 `fibonacci_recursive` 함수를 구현하세요.  "
      ],
      "metadata": {
        "id": "GFYeYXlOdCfo"
      }
    },
    {
      "cell_type": "markdown",
      "source": [
        "**📌조건**\n",
        "- **재귀 함수** 활용\n",
        "- 입력 `n`은 1 이상의 정수"
      ],
      "metadata": {
        "id": "Z9u_2gh0VGUQ"
      }
    },
    {
      "cell_type": "code",
      "source": [
        "#예시답안\n",
        "def fibonacci_recursive(n):\n",
        "    if n == 1 or n == 2:\n",
        "        return 1\n",
        "    return fibonacci_recursive(n - 1) + fibonacci_recursive(n - 2)\n"
      ],
      "metadata": {
        "id": "wWBHqNORdCfq"
      },
      "execution_count": null,
      "outputs": []
    },
    {
      "cell_type": "code",
      "source": [
        "### Testing\n",
        "# 문제에서 제시한 3가지 케이스에 대해 테스트 해주세요!\n",
        "\n",
        "print(fibonacci_recursive(5))  # 출력: 5\n",
        "print(fibonacci_recursive(7))  # 출력: 13\n",
        "print(fibonacci_recursive(2))     # 출력: 1"
      ],
      "metadata": {
        "id": "V2_Dr4yIXXYX",
        "colab": {
          "base_uri": "https://localhost:8080/"
        },
        "outputId": "575382d4-295e-4319-a6de-03d0f625ebc8"
      },
      "execution_count": null,
      "outputs": [
        {
          "output_type": "stream",
          "name": "stdout",
          "text": [
            "5\n",
            "13\n",
            "1\n"
          ]
        }
      ]
    },
    {
      "cell_type": "markdown",
      "source": [],
      "metadata": {
        "id": "71N_-L59jqCQ"
      }
    },
    {
      "cell_type": "markdown",
      "source": [
        "### **3-3-2 (6점)**  \n",
        "주어진 숫자 n에 대해, n번째 피보나치 수열의 값 f(n)을 반환하는 `fibonacci_iterative` 함수를 구현하세요."
      ],
      "metadata": {
        "id": "cR-Jj0TDdCfq"
      }
    },
    {
      "cell_type": "markdown",
      "source": [
        "**📌조건**\n",
        "-  **반복문** 활용\n",
        "- 입력 `n`은 1 이상의 정수"
      ],
      "metadata": {
        "id": "0I1aRrqQV-U9"
      }
    },
    {
      "cell_type": "code",
      "source": [
        "#예시답안\n",
        "def fibonacci_iterative(n):\n",
        "    if n == 1 or n == 2:\n",
        "        return 1\n",
        "\n",
        "    a, b = 1, 1\n",
        "    for _ in range(3, n + 1):\n",
        "        a, b = b, a + b\n",
        "    return b\n"
      ],
      "metadata": {
        "id": "QLJiftMhdCfr"
      },
      "execution_count": null,
      "outputs": []
    },
    {
      "cell_type": "code",
      "source": [
        "### Testing\n",
        "# 문제에서 제시한 3가지 케이스에 대해 테스트 해주세요!\n",
        "\n",
        "print(fibonacci_iterative(5))  # 출력: 5\n",
        "print(fibonacci_iterative(7))  # 출력: 13\n",
        "print(fibonacci_iterative(2))  # 출력: 1"
      ],
      "metadata": {
        "id": "FyXCYTXRQCFC",
        "colab": {
          "base_uri": "https://localhost:8080/"
        },
        "outputId": "7e6c97cb-aed8-468a-9ef5-f292caa25dde"
      },
      "execution_count": null,
      "outputs": [
        {
          "output_type": "stream",
          "name": "stdout",
          "text": [
            "5\n",
            "13\n",
            "1\n"
          ]
        }
      ]
    },
    {
      "cell_type": "markdown",
      "source": [],
      "metadata": {
        "id": "y1a8IwrojSf7"
      }
    },
    {
      "cell_type": "markdown",
      "source": [
        "# **4️⃣ 문제 4**"
      ],
      "metadata": {
        "id": "WkLuH3mBsnt5"
      }
    },
    {
      "cell_type": "markdown",
      "source": [
        "## **4-1. 넘파이(5점)**\n",
        "- 주어진 배열에서 모든 요소의 평균값을 구하는 코드를 작성하세요.\n",
        "\n",
        "  - 배열 요소들은 9, 3.4, 17, 8.17, 4.593입니다.\n",
        "  - 이를 `numpy` 배열로 정의하여 평균을 계산하세요.\n"
      ],
      "metadata": {
        "id": "Tp5PlDxAqK_c"
      }
    },
    {
      "cell_type": "markdown",
      "source": [
        "**📌 조건**  \n",
        "- `numpy` 내장 함수를 활용해 주세요.\n",
        "- 배열은 `arr`라는 변수에 직접 정의해 주세요.\n",
        "  - `arr` 변수의 type은 `numpy.ndarray`여야 합니다.\n",
        "- 배열의 평균값을 계산한 후, 결과는 소수점 이하 두 자리까지 출력해 주세요."
      ],
      "metadata": {
        "id": "dosZi1k-ZtNm"
      }
    },
    {
      "cell_type": "code",
      "source": [
        "import numpy as np  # 넘파이 모듈 호출\n",
        "\n",
        "# 배열 정의\n",
        "elements = [9, 3.4, 17, 8.17, 4.593]\n",
        "arr = np.array(elements)  ###답안###\n",
        "\n",
        "# 평균값 계산\n",
        "mean_value = np.mean(arr)  ###답안###\n",
        "\n",
        "# 소수점 둘째 자리까지 출력\n",
        "print(round(mean_value, 2)) ###답안###"
      ],
      "metadata": {
        "id": "GaJhpAdYZzjT",
        "colab": {
          "base_uri": "https://localhost:8080/"
        },
        "outputId": "e6a5777f-3f67-4fc1-a7c6-2037a6b3a7ae"
      },
      "execution_count": null,
      "outputs": [
        {
          "output_type": "stream",
          "name": "stdout",
          "text": [
            "8.43\n"
          ]
        }
      ]
    },
    {
      "cell_type": "markdown",
      "source": [
        "## **4-2. 판다스(5점)**\n",
        "- 제시문에 따라 문제를 해결해 주세요.\n",
        "---"
      ],
      "metadata": {
        "id": "GRCKutcPqNpY"
      }
    },
    {
      "cell_type": "markdown",
      "source": [
        "- 우선 판다스 모듈을 import하고, 데이터 분석에 활용할 데이터 프레임을 생성하겠습니다."
      ],
      "metadata": {
        "id": "tuktjw2ZqVvs"
      }
    },
    {
      "cell_type": "code",
      "source": [
        "### 실행해 주세요!\n",
        "\n",
        "# 판다스 모듈 호출\n",
        "import pandas as pd\n",
        "\n",
        "data = {\n",
        "    \"상품명\": [\"티셔츠\", \"청바지\", \"스니커즈\", \"모자\", \"백팩\", \"후드티\", \"샌들\", \"지갑\", \"코트\", \"운동화\"],\n",
        "    \"카테고리\": [\"의류\", \"의류\", \"신발\", \"액세서리\", \"가방\", \"의류\", \"신발\", \"액세서리\", \"의류\", \"신발\"],\n",
        "    \"가격\": [25000, 55000, 80000, 20000, 95000, 40000, 35000, 30000, 120000, 70000],\n",
        "    \"판매량\": [120, 80, 60, 150, 40, 100, 90, 110, 30, 50]\n",
        "}\n",
        "\n",
        "# 데이터프레임 생성\n",
        "df = pd.DataFrame(data)\n",
        "df"
      ],
      "metadata": {
        "id": "CqmaDYvV-nEX",
        "outputId": "9029d856-86c6-4b74-f3b3-2c27de7b9090",
        "colab": {
          "base_uri": "https://localhost:8080/",
          "height": 362
        }
      },
      "execution_count": null,
      "outputs": [
        {
          "output_type": "execute_result",
          "data": {
            "text/plain": [
              "    상품명  카테고리      가격  판매량\n",
              "0   티셔츠    의류   25000  120\n",
              "1   청바지    의류   55000   80\n",
              "2  스니커즈    신발   80000   60\n",
              "3    모자  액세서리   20000  150\n",
              "4    백팩    가방   95000   40\n",
              "5   후드티    의류   40000  100\n",
              "6    샌들    신발   35000   90\n",
              "7    지갑  액세서리   30000  110\n",
              "8    코트    의류  120000   30\n",
              "9   운동화    신발   70000   50"
            ],
            "text/html": [
              "\n",
              "  <div id=\"df-3958e5d2-92a4-4fcf-8d2d-d1d50e980fef\" class=\"colab-df-container\">\n",
              "    <div>\n",
              "<style scoped>\n",
              "    .dataframe tbody tr th:only-of-type {\n",
              "        vertical-align: middle;\n",
              "    }\n",
              "\n",
              "    .dataframe tbody tr th {\n",
              "        vertical-align: top;\n",
              "    }\n",
              "\n",
              "    .dataframe thead th {\n",
              "        text-align: right;\n",
              "    }\n",
              "</style>\n",
              "<table border=\"1\" class=\"dataframe\">\n",
              "  <thead>\n",
              "    <tr style=\"text-align: right;\">\n",
              "      <th></th>\n",
              "      <th>상품명</th>\n",
              "      <th>카테고리</th>\n",
              "      <th>가격</th>\n",
              "      <th>판매량</th>\n",
              "    </tr>\n",
              "  </thead>\n",
              "  <tbody>\n",
              "    <tr>\n",
              "      <th>0</th>\n",
              "      <td>티셔츠</td>\n",
              "      <td>의류</td>\n",
              "      <td>25000</td>\n",
              "      <td>120</td>\n",
              "    </tr>\n",
              "    <tr>\n",
              "      <th>1</th>\n",
              "      <td>청바지</td>\n",
              "      <td>의류</td>\n",
              "      <td>55000</td>\n",
              "      <td>80</td>\n",
              "    </tr>\n",
              "    <tr>\n",
              "      <th>2</th>\n",
              "      <td>스니커즈</td>\n",
              "      <td>신발</td>\n",
              "      <td>80000</td>\n",
              "      <td>60</td>\n",
              "    </tr>\n",
              "    <tr>\n",
              "      <th>3</th>\n",
              "      <td>모자</td>\n",
              "      <td>액세서리</td>\n",
              "      <td>20000</td>\n",
              "      <td>150</td>\n",
              "    </tr>\n",
              "    <tr>\n",
              "      <th>4</th>\n",
              "      <td>백팩</td>\n",
              "      <td>가방</td>\n",
              "      <td>95000</td>\n",
              "      <td>40</td>\n",
              "    </tr>\n",
              "    <tr>\n",
              "      <th>5</th>\n",
              "      <td>후드티</td>\n",
              "      <td>의류</td>\n",
              "      <td>40000</td>\n",
              "      <td>100</td>\n",
              "    </tr>\n",
              "    <tr>\n",
              "      <th>6</th>\n",
              "      <td>샌들</td>\n",
              "      <td>신발</td>\n",
              "      <td>35000</td>\n",
              "      <td>90</td>\n",
              "    </tr>\n",
              "    <tr>\n",
              "      <th>7</th>\n",
              "      <td>지갑</td>\n",
              "      <td>액세서리</td>\n",
              "      <td>30000</td>\n",
              "      <td>110</td>\n",
              "    </tr>\n",
              "    <tr>\n",
              "      <th>8</th>\n",
              "      <td>코트</td>\n",
              "      <td>의류</td>\n",
              "      <td>120000</td>\n",
              "      <td>30</td>\n",
              "    </tr>\n",
              "    <tr>\n",
              "      <th>9</th>\n",
              "      <td>운동화</td>\n",
              "      <td>신발</td>\n",
              "      <td>70000</td>\n",
              "      <td>50</td>\n",
              "    </tr>\n",
              "  </tbody>\n",
              "</table>\n",
              "</div>\n",
              "    <div class=\"colab-df-buttons\">\n",
              "\n",
              "  <div class=\"colab-df-container\">\n",
              "    <button class=\"colab-df-convert\" onclick=\"convertToInteractive('df-3958e5d2-92a4-4fcf-8d2d-d1d50e980fef')\"\n",
              "            title=\"Convert this dataframe to an interactive table.\"\n",
              "            style=\"display:none;\">\n",
              "\n",
              "  <svg xmlns=\"http://www.w3.org/2000/svg\" height=\"24px\" viewBox=\"0 -960 960 960\">\n",
              "    <path d=\"M120-120v-720h720v720H120Zm60-500h600v-160H180v160Zm220 220h160v-160H400v160Zm0 220h160v-160H400v160ZM180-400h160v-160H180v160Zm440 0h160v-160H620v160ZM180-180h160v-160H180v160Zm440 0h160v-160H620v160Z\"/>\n",
              "  </svg>\n",
              "    </button>\n",
              "\n",
              "  <style>\n",
              "    .colab-df-container {\n",
              "      display:flex;\n",
              "      gap: 12px;\n",
              "    }\n",
              "\n",
              "    .colab-df-convert {\n",
              "      background-color: #E8F0FE;\n",
              "      border: none;\n",
              "      border-radius: 50%;\n",
              "      cursor: pointer;\n",
              "      display: none;\n",
              "      fill: #1967D2;\n",
              "      height: 32px;\n",
              "      padding: 0 0 0 0;\n",
              "      width: 32px;\n",
              "    }\n",
              "\n",
              "    .colab-df-convert:hover {\n",
              "      background-color: #E2EBFA;\n",
              "      box-shadow: 0px 1px 2px rgba(60, 64, 67, 0.3), 0px 1px 3px 1px rgba(60, 64, 67, 0.15);\n",
              "      fill: #174EA6;\n",
              "    }\n",
              "\n",
              "    .colab-df-buttons div {\n",
              "      margin-bottom: 4px;\n",
              "    }\n",
              "\n",
              "    [theme=dark] .colab-df-convert {\n",
              "      background-color: #3B4455;\n",
              "      fill: #D2E3FC;\n",
              "    }\n",
              "\n",
              "    [theme=dark] .colab-df-convert:hover {\n",
              "      background-color: #434B5C;\n",
              "      box-shadow: 0px 1px 3px 1px rgba(0, 0, 0, 0.15);\n",
              "      filter: drop-shadow(0px 1px 2px rgba(0, 0, 0, 0.3));\n",
              "      fill: #FFFFFF;\n",
              "    }\n",
              "  </style>\n",
              "\n",
              "    <script>\n",
              "      const buttonEl =\n",
              "        document.querySelector('#df-3958e5d2-92a4-4fcf-8d2d-d1d50e980fef button.colab-df-convert');\n",
              "      buttonEl.style.display =\n",
              "        google.colab.kernel.accessAllowed ? 'block' : 'none';\n",
              "\n",
              "      async function convertToInteractive(key) {\n",
              "        const element = document.querySelector('#df-3958e5d2-92a4-4fcf-8d2d-d1d50e980fef');\n",
              "        const dataTable =\n",
              "          await google.colab.kernel.invokeFunction('convertToInteractive',\n",
              "                                                    [key], {});\n",
              "        if (!dataTable) return;\n",
              "\n",
              "        const docLinkHtml = 'Like what you see? Visit the ' +\n",
              "          '<a target=\"_blank\" href=https://colab.research.google.com/notebooks/data_table.ipynb>data table notebook</a>'\n",
              "          + ' to learn more about interactive tables.';\n",
              "        element.innerHTML = '';\n",
              "        dataTable['output_type'] = 'display_data';\n",
              "        await google.colab.output.renderOutput(dataTable, element);\n",
              "        const docLink = document.createElement('div');\n",
              "        docLink.innerHTML = docLinkHtml;\n",
              "        element.appendChild(docLink);\n",
              "      }\n",
              "    </script>\n",
              "  </div>\n",
              "\n",
              "\n",
              "<div id=\"df-62cc84ac-5763-4de2-8558-17e01f83ba5b\">\n",
              "  <button class=\"colab-df-quickchart\" onclick=\"quickchart('df-62cc84ac-5763-4de2-8558-17e01f83ba5b')\"\n",
              "            title=\"Suggest charts\"\n",
              "            style=\"display:none;\">\n",
              "\n",
              "<svg xmlns=\"http://www.w3.org/2000/svg\" height=\"24px\"viewBox=\"0 0 24 24\"\n",
              "     width=\"24px\">\n",
              "    <g>\n",
              "        <path d=\"M19 3H5c-1.1 0-2 .9-2 2v14c0 1.1.9 2 2 2h14c1.1 0 2-.9 2-2V5c0-1.1-.9-2-2-2zM9 17H7v-7h2v7zm4 0h-2V7h2v10zm4 0h-2v-4h2v4z\"/>\n",
              "    </g>\n",
              "</svg>\n",
              "  </button>\n",
              "\n",
              "<style>\n",
              "  .colab-df-quickchart {\n",
              "      --bg-color: #E8F0FE;\n",
              "      --fill-color: #1967D2;\n",
              "      --hover-bg-color: #E2EBFA;\n",
              "      --hover-fill-color: #174EA6;\n",
              "      --disabled-fill-color: #AAA;\n",
              "      --disabled-bg-color: #DDD;\n",
              "  }\n",
              "\n",
              "  [theme=dark] .colab-df-quickchart {\n",
              "      --bg-color: #3B4455;\n",
              "      --fill-color: #D2E3FC;\n",
              "      --hover-bg-color: #434B5C;\n",
              "      --hover-fill-color: #FFFFFF;\n",
              "      --disabled-bg-color: #3B4455;\n",
              "      --disabled-fill-color: #666;\n",
              "  }\n",
              "\n",
              "  .colab-df-quickchart {\n",
              "    background-color: var(--bg-color);\n",
              "    border: none;\n",
              "    border-radius: 50%;\n",
              "    cursor: pointer;\n",
              "    display: none;\n",
              "    fill: var(--fill-color);\n",
              "    height: 32px;\n",
              "    padding: 0;\n",
              "    width: 32px;\n",
              "  }\n",
              "\n",
              "  .colab-df-quickchart:hover {\n",
              "    background-color: var(--hover-bg-color);\n",
              "    box-shadow: 0 1px 2px rgba(60, 64, 67, 0.3), 0 1px 3px 1px rgba(60, 64, 67, 0.15);\n",
              "    fill: var(--button-hover-fill-color);\n",
              "  }\n",
              "\n",
              "  .colab-df-quickchart-complete:disabled,\n",
              "  .colab-df-quickchart-complete:disabled:hover {\n",
              "    background-color: var(--disabled-bg-color);\n",
              "    fill: var(--disabled-fill-color);\n",
              "    box-shadow: none;\n",
              "  }\n",
              "\n",
              "  .colab-df-spinner {\n",
              "    border: 2px solid var(--fill-color);\n",
              "    border-color: transparent;\n",
              "    border-bottom-color: var(--fill-color);\n",
              "    animation:\n",
              "      spin 1s steps(1) infinite;\n",
              "  }\n",
              "\n",
              "  @keyframes spin {\n",
              "    0% {\n",
              "      border-color: transparent;\n",
              "      border-bottom-color: var(--fill-color);\n",
              "      border-left-color: var(--fill-color);\n",
              "    }\n",
              "    20% {\n",
              "      border-color: transparent;\n",
              "      border-left-color: var(--fill-color);\n",
              "      border-top-color: var(--fill-color);\n",
              "    }\n",
              "    30% {\n",
              "      border-color: transparent;\n",
              "      border-left-color: var(--fill-color);\n",
              "      border-top-color: var(--fill-color);\n",
              "      border-right-color: var(--fill-color);\n",
              "    }\n",
              "    40% {\n",
              "      border-color: transparent;\n",
              "      border-right-color: var(--fill-color);\n",
              "      border-top-color: var(--fill-color);\n",
              "    }\n",
              "    60% {\n",
              "      border-color: transparent;\n",
              "      border-right-color: var(--fill-color);\n",
              "    }\n",
              "    80% {\n",
              "      border-color: transparent;\n",
              "      border-right-color: var(--fill-color);\n",
              "      border-bottom-color: var(--fill-color);\n",
              "    }\n",
              "    90% {\n",
              "      border-color: transparent;\n",
              "      border-bottom-color: var(--fill-color);\n",
              "    }\n",
              "  }\n",
              "</style>\n",
              "\n",
              "  <script>\n",
              "    async function quickchart(key) {\n",
              "      const quickchartButtonEl =\n",
              "        document.querySelector('#' + key + ' button');\n",
              "      quickchartButtonEl.disabled = true;  // To prevent multiple clicks.\n",
              "      quickchartButtonEl.classList.add('colab-df-spinner');\n",
              "      try {\n",
              "        const charts = await google.colab.kernel.invokeFunction(\n",
              "            'suggestCharts', [key], {});\n",
              "      } catch (error) {\n",
              "        console.error('Error during call to suggestCharts:', error);\n",
              "      }\n",
              "      quickchartButtonEl.classList.remove('colab-df-spinner');\n",
              "      quickchartButtonEl.classList.add('colab-df-quickchart-complete');\n",
              "    }\n",
              "    (() => {\n",
              "      let quickchartButtonEl =\n",
              "        document.querySelector('#df-62cc84ac-5763-4de2-8558-17e01f83ba5b button');\n",
              "      quickchartButtonEl.style.display =\n",
              "        google.colab.kernel.accessAllowed ? 'block' : 'none';\n",
              "    })();\n",
              "  </script>\n",
              "</div>\n",
              "\n",
              "  <div id=\"id_5b5d5f7f-9ede-44d1-9f42-460646878c25\">\n",
              "    <style>\n",
              "      .colab-df-generate {\n",
              "        background-color: #E8F0FE;\n",
              "        border: none;\n",
              "        border-radius: 50%;\n",
              "        cursor: pointer;\n",
              "        display: none;\n",
              "        fill: #1967D2;\n",
              "        height: 32px;\n",
              "        padding: 0 0 0 0;\n",
              "        width: 32px;\n",
              "      }\n",
              "\n",
              "      .colab-df-generate:hover {\n",
              "        background-color: #E2EBFA;\n",
              "        box-shadow: 0px 1px 2px rgba(60, 64, 67, 0.3), 0px 1px 3px 1px rgba(60, 64, 67, 0.15);\n",
              "        fill: #174EA6;\n",
              "      }\n",
              "\n",
              "      [theme=dark] .colab-df-generate {\n",
              "        background-color: #3B4455;\n",
              "        fill: #D2E3FC;\n",
              "      }\n",
              "\n",
              "      [theme=dark] .colab-df-generate:hover {\n",
              "        background-color: #434B5C;\n",
              "        box-shadow: 0px 1px 3px 1px rgba(0, 0, 0, 0.15);\n",
              "        filter: drop-shadow(0px 1px 2px rgba(0, 0, 0, 0.3));\n",
              "        fill: #FFFFFF;\n",
              "      }\n",
              "    </style>\n",
              "    <button class=\"colab-df-generate\" onclick=\"generateWithVariable('df')\"\n",
              "            title=\"Generate code using this dataframe.\"\n",
              "            style=\"display:none;\">\n",
              "\n",
              "  <svg xmlns=\"http://www.w3.org/2000/svg\" height=\"24px\"viewBox=\"0 0 24 24\"\n",
              "       width=\"24px\">\n",
              "    <path d=\"M7,19H8.4L18.45,9,17,7.55,7,17.6ZM5,21V16.75L18.45,3.32a2,2,0,0,1,2.83,0l1.4,1.43a1.91,1.91,0,0,1,.58,1.4,1.91,1.91,0,0,1-.58,1.4L9.25,21ZM18.45,9,17,7.55Zm-12,3A5.31,5.31,0,0,0,4.9,8.1,5.31,5.31,0,0,0,1,6.5,5.31,5.31,0,0,0,4.9,4.9,5.31,5.31,0,0,0,6.5,1,5.31,5.31,0,0,0,8.1,4.9,5.31,5.31,0,0,0,12,6.5,5.46,5.46,0,0,0,6.5,12Z\"/>\n",
              "  </svg>\n",
              "    </button>\n",
              "    <script>\n",
              "      (() => {\n",
              "      const buttonEl =\n",
              "        document.querySelector('#id_5b5d5f7f-9ede-44d1-9f42-460646878c25 button.colab-df-generate');\n",
              "      buttonEl.style.display =\n",
              "        google.colab.kernel.accessAllowed ? 'block' : 'none';\n",
              "\n",
              "      buttonEl.onclick = () => {\n",
              "        google.colab.notebook.generateWithVariable('df');\n",
              "      }\n",
              "      })();\n",
              "    </script>\n",
              "  </div>\n",
              "\n",
              "    </div>\n",
              "  </div>\n"
            ],
            "application/vnd.google.colaboratory.intrinsic+json": {
              "type": "dataframe",
              "variable_name": "df",
              "summary": "{\n  \"name\": \"df\",\n  \"rows\": 10,\n  \"fields\": [\n    {\n      \"column\": \"\\uc0c1\\ud488\\uba85\",\n      \"properties\": {\n        \"dtype\": \"string\",\n        \"num_unique_values\": 10,\n        \"samples\": [\n          \"\\ucf54\\ud2b8\",\n          \"\\uccad\\ubc14\\uc9c0\",\n          \"\\ud6c4\\ub4dc\\ud2f0\"\n        ],\n        \"semantic_type\": \"\",\n        \"description\": \"\"\n      }\n    },\n    {\n      \"column\": \"\\uce74\\ud14c\\uace0\\ub9ac\",\n      \"properties\": {\n        \"dtype\": \"category\",\n        \"num_unique_values\": 4,\n        \"samples\": [\n          \"\\uc2e0\\ubc1c\",\n          \"\\uac00\\ubc29\",\n          \"\\uc758\\ub958\"\n        ],\n        \"semantic_type\": \"\",\n        \"description\": \"\"\n      }\n    },\n    {\n      \"column\": \"\\uac00\\uaca9\",\n      \"properties\": {\n        \"dtype\": \"number\",\n        \"std\": 33349,\n        \"min\": 20000,\n        \"max\": 120000,\n        \"num_unique_values\": 10,\n        \"samples\": [\n          120000,\n          55000,\n          40000\n        ],\n        \"semantic_type\": \"\",\n        \"description\": \"\"\n      }\n    },\n    {\n      \"column\": \"\\ud310\\ub9e4\\ub7c9\",\n      \"properties\": {\n        \"dtype\": \"number\",\n        \"std\": 38,\n        \"min\": 30,\n        \"max\": 150,\n        \"num_unique_values\": 10,\n        \"samples\": [\n          30,\n          80,\n          100\n        ],\n        \"semantic_type\": \"\",\n        \"description\": \"\"\n      }\n    }\n  ]\n}"
            }
          },
          "metadata": {},
          "execution_count": 17
        }
      ]
    },
    {
      "cell_type": "markdown",
      "source": [
        "### **4-2-1. 카테고리별 상품 개수를 구해주세요.**\n",
        "**🔍 힌트**\n",
        "- 판다스에는 데이터의 특정 열(column)에 있는 값들의 개수를 세는 방법이 있어요."
      ],
      "metadata": {
        "id": "HmTE5vt-_r-N"
      }
    },
    {
      "cell_type": "code",
      "source": [
        "df['카테고리'].value_counts()"
      ],
      "metadata": {
        "colab": {
          "base_uri": "https://localhost:8080/",
          "height": 240
        },
        "id": "wDO7VJsi_Eo7",
        "outputId": "8ea3071d-f2f6-4656-9084-2e04ee217e4d"
      },
      "execution_count": null,
      "outputs": [
        {
          "output_type": "execute_result",
          "data": {
            "text/plain": [
              "카테고리\n",
              "의류      4\n",
              "신발      3\n",
              "액세서리    2\n",
              "가방      1\n",
              "Name: count, dtype: int64"
            ],
            "text/html": [
              "<div>\n",
              "<style scoped>\n",
              "    .dataframe tbody tr th:only-of-type {\n",
              "        vertical-align: middle;\n",
              "    }\n",
              "\n",
              "    .dataframe tbody tr th {\n",
              "        vertical-align: top;\n",
              "    }\n",
              "\n",
              "    .dataframe thead th {\n",
              "        text-align: right;\n",
              "    }\n",
              "</style>\n",
              "<table border=\"1\" class=\"dataframe\">\n",
              "  <thead>\n",
              "    <tr style=\"text-align: right;\">\n",
              "      <th></th>\n",
              "      <th>count</th>\n",
              "    </tr>\n",
              "    <tr>\n",
              "      <th>카테고리</th>\n",
              "      <th></th>\n",
              "    </tr>\n",
              "  </thead>\n",
              "  <tbody>\n",
              "    <tr>\n",
              "      <th>의류</th>\n",
              "      <td>4</td>\n",
              "    </tr>\n",
              "    <tr>\n",
              "      <th>신발</th>\n",
              "      <td>3</td>\n",
              "    </tr>\n",
              "    <tr>\n",
              "      <th>액세서리</th>\n",
              "      <td>2</td>\n",
              "    </tr>\n",
              "    <tr>\n",
              "      <th>가방</th>\n",
              "      <td>1</td>\n",
              "    </tr>\n",
              "  </tbody>\n",
              "</table>\n",
              "</div><br><label><b>dtype:</b> int64</label>"
            ]
          },
          "metadata": {},
          "execution_count": 18
        }
      ]
    },
    {
      "cell_type": "markdown",
      "source": [
        "### **4-2-2. 각 상품의 총 매출액(가격 × 판매량)을 계산하여 새로운 `총매출` 열을 추가해 주세요.**"
      ],
      "metadata": {
        "id": "-wtWMVNy_l6K"
      }
    },
    {
      "cell_type": "code",
      "source": [
        "df[\"총매출\"] = df[\"가격\"] * df[\"판매량\"]\n",
        "\n",
        "# 결과 확인\n",
        "df"
      ],
      "metadata": {
        "colab": {
          "base_uri": "https://localhost:8080/",
          "height": 362
        },
        "id": "WNSgSJ49-73-",
        "outputId": "67313fd9-132c-4a9c-da42-bc9cd12d02fc"
      },
      "execution_count": null,
      "outputs": [
        {
          "output_type": "execute_result",
          "data": {
            "text/plain": [
              "    상품명  카테고리      가격  판매량      총매출\n",
              "0   티셔츠    의류   25000  120  3000000\n",
              "1   청바지    의류   55000   80  4400000\n",
              "2  스니커즈    신발   80000   60  4800000\n",
              "3    모자  액세서리   20000  150  3000000\n",
              "4    백팩    가방   95000   40  3800000\n",
              "5   후드티    의류   40000  100  4000000\n",
              "6    샌들    신발   35000   90  3150000\n",
              "7    지갑  액세서리   30000  110  3300000\n",
              "8    코트    의류  120000   30  3600000\n",
              "9   운동화    신발   70000   50  3500000"
            ],
            "text/html": [
              "\n",
              "  <div id=\"df-99ca7719-9a26-41a3-92d4-c5de74ce3c20\" class=\"colab-df-container\">\n",
              "    <div>\n",
              "<style scoped>\n",
              "    .dataframe tbody tr th:only-of-type {\n",
              "        vertical-align: middle;\n",
              "    }\n",
              "\n",
              "    .dataframe tbody tr th {\n",
              "        vertical-align: top;\n",
              "    }\n",
              "\n",
              "    .dataframe thead th {\n",
              "        text-align: right;\n",
              "    }\n",
              "</style>\n",
              "<table border=\"1\" class=\"dataframe\">\n",
              "  <thead>\n",
              "    <tr style=\"text-align: right;\">\n",
              "      <th></th>\n",
              "      <th>상품명</th>\n",
              "      <th>카테고리</th>\n",
              "      <th>가격</th>\n",
              "      <th>판매량</th>\n",
              "      <th>총매출</th>\n",
              "    </tr>\n",
              "  </thead>\n",
              "  <tbody>\n",
              "    <tr>\n",
              "      <th>0</th>\n",
              "      <td>티셔츠</td>\n",
              "      <td>의류</td>\n",
              "      <td>25000</td>\n",
              "      <td>120</td>\n",
              "      <td>3000000</td>\n",
              "    </tr>\n",
              "    <tr>\n",
              "      <th>1</th>\n",
              "      <td>청바지</td>\n",
              "      <td>의류</td>\n",
              "      <td>55000</td>\n",
              "      <td>80</td>\n",
              "      <td>4400000</td>\n",
              "    </tr>\n",
              "    <tr>\n",
              "      <th>2</th>\n",
              "      <td>스니커즈</td>\n",
              "      <td>신발</td>\n",
              "      <td>80000</td>\n",
              "      <td>60</td>\n",
              "      <td>4800000</td>\n",
              "    </tr>\n",
              "    <tr>\n",
              "      <th>3</th>\n",
              "      <td>모자</td>\n",
              "      <td>액세서리</td>\n",
              "      <td>20000</td>\n",
              "      <td>150</td>\n",
              "      <td>3000000</td>\n",
              "    </tr>\n",
              "    <tr>\n",
              "      <th>4</th>\n",
              "      <td>백팩</td>\n",
              "      <td>가방</td>\n",
              "      <td>95000</td>\n",
              "      <td>40</td>\n",
              "      <td>3800000</td>\n",
              "    </tr>\n",
              "    <tr>\n",
              "      <th>5</th>\n",
              "      <td>후드티</td>\n",
              "      <td>의류</td>\n",
              "      <td>40000</td>\n",
              "      <td>100</td>\n",
              "      <td>4000000</td>\n",
              "    </tr>\n",
              "    <tr>\n",
              "      <th>6</th>\n",
              "      <td>샌들</td>\n",
              "      <td>신발</td>\n",
              "      <td>35000</td>\n",
              "      <td>90</td>\n",
              "      <td>3150000</td>\n",
              "    </tr>\n",
              "    <tr>\n",
              "      <th>7</th>\n",
              "      <td>지갑</td>\n",
              "      <td>액세서리</td>\n",
              "      <td>30000</td>\n",
              "      <td>110</td>\n",
              "      <td>3300000</td>\n",
              "    </tr>\n",
              "    <tr>\n",
              "      <th>8</th>\n",
              "      <td>코트</td>\n",
              "      <td>의류</td>\n",
              "      <td>120000</td>\n",
              "      <td>30</td>\n",
              "      <td>3600000</td>\n",
              "    </tr>\n",
              "    <tr>\n",
              "      <th>9</th>\n",
              "      <td>운동화</td>\n",
              "      <td>신발</td>\n",
              "      <td>70000</td>\n",
              "      <td>50</td>\n",
              "      <td>3500000</td>\n",
              "    </tr>\n",
              "  </tbody>\n",
              "</table>\n",
              "</div>\n",
              "    <div class=\"colab-df-buttons\">\n",
              "\n",
              "  <div class=\"colab-df-container\">\n",
              "    <button class=\"colab-df-convert\" onclick=\"convertToInteractive('df-99ca7719-9a26-41a3-92d4-c5de74ce3c20')\"\n",
              "            title=\"Convert this dataframe to an interactive table.\"\n",
              "            style=\"display:none;\">\n",
              "\n",
              "  <svg xmlns=\"http://www.w3.org/2000/svg\" height=\"24px\" viewBox=\"0 -960 960 960\">\n",
              "    <path d=\"M120-120v-720h720v720H120Zm60-500h600v-160H180v160Zm220 220h160v-160H400v160Zm0 220h160v-160H400v160ZM180-400h160v-160H180v160Zm440 0h160v-160H620v160ZM180-180h160v-160H180v160Zm440 0h160v-160H620v160Z\"/>\n",
              "  </svg>\n",
              "    </button>\n",
              "\n",
              "  <style>\n",
              "    .colab-df-container {\n",
              "      display:flex;\n",
              "      gap: 12px;\n",
              "    }\n",
              "\n",
              "    .colab-df-convert {\n",
              "      background-color: #E8F0FE;\n",
              "      border: none;\n",
              "      border-radius: 50%;\n",
              "      cursor: pointer;\n",
              "      display: none;\n",
              "      fill: #1967D2;\n",
              "      height: 32px;\n",
              "      padding: 0 0 0 0;\n",
              "      width: 32px;\n",
              "    }\n",
              "\n",
              "    .colab-df-convert:hover {\n",
              "      background-color: #E2EBFA;\n",
              "      box-shadow: 0px 1px 2px rgba(60, 64, 67, 0.3), 0px 1px 3px 1px rgba(60, 64, 67, 0.15);\n",
              "      fill: #174EA6;\n",
              "    }\n",
              "\n",
              "    .colab-df-buttons div {\n",
              "      margin-bottom: 4px;\n",
              "    }\n",
              "\n",
              "    [theme=dark] .colab-df-convert {\n",
              "      background-color: #3B4455;\n",
              "      fill: #D2E3FC;\n",
              "    }\n",
              "\n",
              "    [theme=dark] .colab-df-convert:hover {\n",
              "      background-color: #434B5C;\n",
              "      box-shadow: 0px 1px 3px 1px rgba(0, 0, 0, 0.15);\n",
              "      filter: drop-shadow(0px 1px 2px rgba(0, 0, 0, 0.3));\n",
              "      fill: #FFFFFF;\n",
              "    }\n",
              "  </style>\n",
              "\n",
              "    <script>\n",
              "      const buttonEl =\n",
              "        document.querySelector('#df-99ca7719-9a26-41a3-92d4-c5de74ce3c20 button.colab-df-convert');\n",
              "      buttonEl.style.display =\n",
              "        google.colab.kernel.accessAllowed ? 'block' : 'none';\n",
              "\n",
              "      async function convertToInteractive(key) {\n",
              "        const element = document.querySelector('#df-99ca7719-9a26-41a3-92d4-c5de74ce3c20');\n",
              "        const dataTable =\n",
              "          await google.colab.kernel.invokeFunction('convertToInteractive',\n",
              "                                                    [key], {});\n",
              "        if (!dataTable) return;\n",
              "\n",
              "        const docLinkHtml = 'Like what you see? Visit the ' +\n",
              "          '<a target=\"_blank\" href=https://colab.research.google.com/notebooks/data_table.ipynb>data table notebook</a>'\n",
              "          + ' to learn more about interactive tables.';\n",
              "        element.innerHTML = '';\n",
              "        dataTable['output_type'] = 'display_data';\n",
              "        await google.colab.output.renderOutput(dataTable, element);\n",
              "        const docLink = document.createElement('div');\n",
              "        docLink.innerHTML = docLinkHtml;\n",
              "        element.appendChild(docLink);\n",
              "      }\n",
              "    </script>\n",
              "  </div>\n",
              "\n",
              "\n",
              "<div id=\"df-1cd68599-3f50-4fd4-8fdc-c24f2d00eba5\">\n",
              "  <button class=\"colab-df-quickchart\" onclick=\"quickchart('df-1cd68599-3f50-4fd4-8fdc-c24f2d00eba5')\"\n",
              "            title=\"Suggest charts\"\n",
              "            style=\"display:none;\">\n",
              "\n",
              "<svg xmlns=\"http://www.w3.org/2000/svg\" height=\"24px\"viewBox=\"0 0 24 24\"\n",
              "     width=\"24px\">\n",
              "    <g>\n",
              "        <path d=\"M19 3H5c-1.1 0-2 .9-2 2v14c0 1.1.9 2 2 2h14c1.1 0 2-.9 2-2V5c0-1.1-.9-2-2-2zM9 17H7v-7h2v7zm4 0h-2V7h2v10zm4 0h-2v-4h2v4z\"/>\n",
              "    </g>\n",
              "</svg>\n",
              "  </button>\n",
              "\n",
              "<style>\n",
              "  .colab-df-quickchart {\n",
              "      --bg-color: #E8F0FE;\n",
              "      --fill-color: #1967D2;\n",
              "      --hover-bg-color: #E2EBFA;\n",
              "      --hover-fill-color: #174EA6;\n",
              "      --disabled-fill-color: #AAA;\n",
              "      --disabled-bg-color: #DDD;\n",
              "  }\n",
              "\n",
              "  [theme=dark] .colab-df-quickchart {\n",
              "      --bg-color: #3B4455;\n",
              "      --fill-color: #D2E3FC;\n",
              "      --hover-bg-color: #434B5C;\n",
              "      --hover-fill-color: #FFFFFF;\n",
              "      --disabled-bg-color: #3B4455;\n",
              "      --disabled-fill-color: #666;\n",
              "  }\n",
              "\n",
              "  .colab-df-quickchart {\n",
              "    background-color: var(--bg-color);\n",
              "    border: none;\n",
              "    border-radius: 50%;\n",
              "    cursor: pointer;\n",
              "    display: none;\n",
              "    fill: var(--fill-color);\n",
              "    height: 32px;\n",
              "    padding: 0;\n",
              "    width: 32px;\n",
              "  }\n",
              "\n",
              "  .colab-df-quickchart:hover {\n",
              "    background-color: var(--hover-bg-color);\n",
              "    box-shadow: 0 1px 2px rgba(60, 64, 67, 0.3), 0 1px 3px 1px rgba(60, 64, 67, 0.15);\n",
              "    fill: var(--button-hover-fill-color);\n",
              "  }\n",
              "\n",
              "  .colab-df-quickchart-complete:disabled,\n",
              "  .colab-df-quickchart-complete:disabled:hover {\n",
              "    background-color: var(--disabled-bg-color);\n",
              "    fill: var(--disabled-fill-color);\n",
              "    box-shadow: none;\n",
              "  }\n",
              "\n",
              "  .colab-df-spinner {\n",
              "    border: 2px solid var(--fill-color);\n",
              "    border-color: transparent;\n",
              "    border-bottom-color: var(--fill-color);\n",
              "    animation:\n",
              "      spin 1s steps(1) infinite;\n",
              "  }\n",
              "\n",
              "  @keyframes spin {\n",
              "    0% {\n",
              "      border-color: transparent;\n",
              "      border-bottom-color: var(--fill-color);\n",
              "      border-left-color: var(--fill-color);\n",
              "    }\n",
              "    20% {\n",
              "      border-color: transparent;\n",
              "      border-left-color: var(--fill-color);\n",
              "      border-top-color: var(--fill-color);\n",
              "    }\n",
              "    30% {\n",
              "      border-color: transparent;\n",
              "      border-left-color: var(--fill-color);\n",
              "      border-top-color: var(--fill-color);\n",
              "      border-right-color: var(--fill-color);\n",
              "    }\n",
              "    40% {\n",
              "      border-color: transparent;\n",
              "      border-right-color: var(--fill-color);\n",
              "      border-top-color: var(--fill-color);\n",
              "    }\n",
              "    60% {\n",
              "      border-color: transparent;\n",
              "      border-right-color: var(--fill-color);\n",
              "    }\n",
              "    80% {\n",
              "      border-color: transparent;\n",
              "      border-right-color: var(--fill-color);\n",
              "      border-bottom-color: var(--fill-color);\n",
              "    }\n",
              "    90% {\n",
              "      border-color: transparent;\n",
              "      border-bottom-color: var(--fill-color);\n",
              "    }\n",
              "  }\n",
              "</style>\n",
              "\n",
              "  <script>\n",
              "    async function quickchart(key) {\n",
              "      const quickchartButtonEl =\n",
              "        document.querySelector('#' + key + ' button');\n",
              "      quickchartButtonEl.disabled = true;  // To prevent multiple clicks.\n",
              "      quickchartButtonEl.classList.add('colab-df-spinner');\n",
              "      try {\n",
              "        const charts = await google.colab.kernel.invokeFunction(\n",
              "            'suggestCharts', [key], {});\n",
              "      } catch (error) {\n",
              "        console.error('Error during call to suggestCharts:', error);\n",
              "      }\n",
              "      quickchartButtonEl.classList.remove('colab-df-spinner');\n",
              "      quickchartButtonEl.classList.add('colab-df-quickchart-complete');\n",
              "    }\n",
              "    (() => {\n",
              "      let quickchartButtonEl =\n",
              "        document.querySelector('#df-1cd68599-3f50-4fd4-8fdc-c24f2d00eba5 button');\n",
              "      quickchartButtonEl.style.display =\n",
              "        google.colab.kernel.accessAllowed ? 'block' : 'none';\n",
              "    })();\n",
              "  </script>\n",
              "</div>\n",
              "\n",
              "  <div id=\"id_06797ea6-0e5a-438d-a39d-654194e61d9e\">\n",
              "    <style>\n",
              "      .colab-df-generate {\n",
              "        background-color: #E8F0FE;\n",
              "        border: none;\n",
              "        border-radius: 50%;\n",
              "        cursor: pointer;\n",
              "        display: none;\n",
              "        fill: #1967D2;\n",
              "        height: 32px;\n",
              "        padding: 0 0 0 0;\n",
              "        width: 32px;\n",
              "      }\n",
              "\n",
              "      .colab-df-generate:hover {\n",
              "        background-color: #E2EBFA;\n",
              "        box-shadow: 0px 1px 2px rgba(60, 64, 67, 0.3), 0px 1px 3px 1px rgba(60, 64, 67, 0.15);\n",
              "        fill: #174EA6;\n",
              "      }\n",
              "\n",
              "      [theme=dark] .colab-df-generate {\n",
              "        background-color: #3B4455;\n",
              "        fill: #D2E3FC;\n",
              "      }\n",
              "\n",
              "      [theme=dark] .colab-df-generate:hover {\n",
              "        background-color: #434B5C;\n",
              "        box-shadow: 0px 1px 3px 1px rgba(0, 0, 0, 0.15);\n",
              "        filter: drop-shadow(0px 1px 2px rgba(0, 0, 0, 0.3));\n",
              "        fill: #FFFFFF;\n",
              "      }\n",
              "    </style>\n",
              "    <button class=\"colab-df-generate\" onclick=\"generateWithVariable('df')\"\n",
              "            title=\"Generate code using this dataframe.\"\n",
              "            style=\"display:none;\">\n",
              "\n",
              "  <svg xmlns=\"http://www.w3.org/2000/svg\" height=\"24px\"viewBox=\"0 0 24 24\"\n",
              "       width=\"24px\">\n",
              "    <path d=\"M7,19H8.4L18.45,9,17,7.55,7,17.6ZM5,21V16.75L18.45,3.32a2,2,0,0,1,2.83,0l1.4,1.43a1.91,1.91,0,0,1,.58,1.4,1.91,1.91,0,0,1-.58,1.4L9.25,21ZM18.45,9,17,7.55Zm-12,3A5.31,5.31,0,0,0,4.9,8.1,5.31,5.31,0,0,0,1,6.5,5.31,5.31,0,0,0,4.9,4.9,5.31,5.31,0,0,0,6.5,1,5.31,5.31,0,0,0,8.1,4.9,5.31,5.31,0,0,0,12,6.5,5.46,5.46,0,0,0,6.5,12Z\"/>\n",
              "  </svg>\n",
              "    </button>\n",
              "    <script>\n",
              "      (() => {\n",
              "      const buttonEl =\n",
              "        document.querySelector('#id_06797ea6-0e5a-438d-a39d-654194e61d9e button.colab-df-generate');\n",
              "      buttonEl.style.display =\n",
              "        google.colab.kernel.accessAllowed ? 'block' : 'none';\n",
              "\n",
              "      buttonEl.onclick = () => {\n",
              "        google.colab.notebook.generateWithVariable('df');\n",
              "      }\n",
              "      })();\n",
              "    </script>\n",
              "  </div>\n",
              "\n",
              "    </div>\n",
              "  </div>\n"
            ],
            "application/vnd.google.colaboratory.intrinsic+json": {
              "type": "dataframe",
              "variable_name": "df",
              "summary": "{\n  \"name\": \"df\",\n  \"rows\": 10,\n  \"fields\": [\n    {\n      \"column\": \"\\uc0c1\\ud488\\uba85\",\n      \"properties\": {\n        \"dtype\": \"string\",\n        \"num_unique_values\": 10,\n        \"samples\": [\n          \"\\ucf54\\ud2b8\",\n          \"\\uccad\\ubc14\\uc9c0\",\n          \"\\ud6c4\\ub4dc\\ud2f0\"\n        ],\n        \"semantic_type\": \"\",\n        \"description\": \"\"\n      }\n    },\n    {\n      \"column\": \"\\uce74\\ud14c\\uace0\\ub9ac\",\n      \"properties\": {\n        \"dtype\": \"category\",\n        \"num_unique_values\": 4,\n        \"samples\": [\n          \"\\uc2e0\\ubc1c\",\n          \"\\uac00\\ubc29\",\n          \"\\uc758\\ub958\"\n        ],\n        \"semantic_type\": \"\",\n        \"description\": \"\"\n      }\n    },\n    {\n      \"column\": \"\\uac00\\uaca9\",\n      \"properties\": {\n        \"dtype\": \"number\",\n        \"std\": 33349,\n        \"min\": 20000,\n        \"max\": 120000,\n        \"num_unique_values\": 10,\n        \"samples\": [\n          120000,\n          55000,\n          40000\n        ],\n        \"semantic_type\": \"\",\n        \"description\": \"\"\n      }\n    },\n    {\n      \"column\": \"\\ud310\\ub9e4\\ub7c9\",\n      \"properties\": {\n        \"dtype\": \"number\",\n        \"std\": 38,\n        \"min\": 30,\n        \"max\": 150,\n        \"num_unique_values\": 10,\n        \"samples\": [\n          30,\n          80,\n          100\n        ],\n        \"semantic_type\": \"\",\n        \"description\": \"\"\n      }\n    },\n    {\n      \"column\": \"\\ucd1d\\ub9e4\\ucd9c\",\n      \"properties\": {\n        \"dtype\": \"number\",\n        \"std\": 602978,\n        \"min\": 3000000,\n        \"max\": 4800000,\n        \"num_unique_values\": 9,\n        \"samples\": [\n          3600000,\n          4400000,\n          3150000\n        ],\n        \"semantic_type\": \"\",\n        \"description\": \"\"\n      }\n    }\n  ]\n}"
            }
          },
          "metadata": {},
          "execution_count": 19
        }
      ]
    }
  ]
}