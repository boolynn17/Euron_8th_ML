{
  "nbformat": 4,
  "nbformat_minor": 0,
  "metadata": {
    "colab": {
      "provenance": []
    },
    "kernelspec": {
      "name": "python3",
      "display_name": "Python 3"
    },
    "language_info": {
      "name": "python"
    }
  },
  "cells": [
    {
      "cell_type": "markdown",
      "source": [
        "# **1주차 복습과제**\n",
        "- 1주차 복습과제는 **넘파이/판다스 연습문제**입니다.\n",
        "- 코드 작성하시고, 출력 결과까지 나오도록 실행 부탁드립니다.\n",
        "  - 제출 시 파일명 본인 이름으로 변경해 주세요. ex) Week1_복습과제_OOO\n",
        "- 교재에서 다루지 않은 메소드도 다수 포함되어 있지만 구글링이나 챗지피티 등을 활용해서라도 풀어주세요! 한 번씩 사용해 보면 좋을 것 같아 어려워도 문제에 포함했습니다 🤗"
      ],
      "metadata": {
        "id": "jkGNNJY3S65Z"
      }
    },
    {
      "cell_type": "markdown",
      "source": [
        "## **넘파이**"
      ],
      "metadata": {
        "id": "WedDHAHPJPIA"
      }
    },
    {
      "cell_type": "markdown",
      "source": [
        "### 1. Import the numpy package under the name `np`."
      ],
      "metadata": {
        "id": "7Ue21e0fKFRI"
      }
    },
    {
      "cell_type": "code",
      "execution_count": 1,
      "metadata": {
        "id": "60ACXMoSGe0H"
      },
      "outputs": [],
      "source": [
        "import numpy as np"
      ]
    },
    {
      "cell_type": "markdown",
      "source": [
        "### 2. Print the numpy version and the configuration.\n",
        "\n",
        "(hint: `np.__version__`, `np.show_config`)"
      ],
      "metadata": {
        "id": "FnHQOUj-KNiT"
      }
    },
    {
      "cell_type": "code",
      "source": [
        "print(np.__version__)\n",
        "np.show_config"
      ],
      "metadata": {
        "id": "FgXzYXoRS-V7",
        "colab": {
          "base_uri": "https://localhost:8080/",
          "height": 205
        },
        "outputId": "1773a756-fa27-4c77-a1b8-a0d09a02752a"
      },
      "execution_count": 8,
      "outputs": [
        {
          "output_type": "stream",
          "name": "stdout",
          "text": [
            "1.26.4\n"
          ]
        },
        {
          "output_type": "execute_result",
          "data": {
            "text/plain": [
              "<function numpy.__config__.show(mode='stdout')>"
            ],
            "text/html": [
              "<div style=\"max-width:800px; border: 1px solid var(--colab-border-color);\"><style>\n",
              "      pre.function-repr-contents {\n",
              "        overflow-x: auto;\n",
              "        padding: 8px 12px;\n",
              "        max-height: 500px;\n",
              "      }\n",
              "\n",
              "      pre.function-repr-contents.function-repr-contents-collapsed {\n",
              "        cursor: pointer;\n",
              "        max-height: 100px;\n",
              "      }\n",
              "    </style>\n",
              "    <pre style=\"white-space: initial; background:\n",
              "         var(--colab-secondary-surface-color); padding: 8px 12px;\n",
              "         border-bottom: 1px solid var(--colab-border-color);\"><b>numpy.__config__.show</b><br/>def show(mode=DisplayModes.stdout.value)</pre><pre class=\"function-repr-contents function-repr-contents-collapsed\" style=\"\"><a class=\"filepath\" style=\"display:none\" href=\"#\">/usr/local/lib/python3.11/dist-packages/numpy/__config__.py</a>Show libraries and system information on which NumPy was built\n",
              "and is being used\n",
              "\n",
              "Parameters\n",
              "----------\n",
              "mode : {`&#x27;stdout&#x27;`, `&#x27;dicts&#x27;`}, optional.\n",
              "    Indicates how to display the config information.\n",
              "    `&#x27;stdout&#x27;` prints to console, `&#x27;dicts&#x27;` returns a dictionary\n",
              "    of the configuration.\n",
              "\n",
              "Returns\n",
              "-------\n",
              "out : {`dict`, `None`}\n",
              "    If mode is `&#x27;dicts&#x27;`, a dict is returned, else None\n",
              "\n",
              "See Also\n",
              "--------\n",
              "get_include : Returns the directory containing NumPy C\n",
              "              header files.\n",
              "\n",
              "Notes\n",
              "-----\n",
              "1. The `&#x27;stdout&#x27;` mode will give more readable\n",
              "   output if ``pyyaml`` is installed</pre>\n",
              "      <script>\n",
              "      if (google.colab.kernel.accessAllowed && google.colab.files && google.colab.files.view) {\n",
              "        for (const element of document.querySelectorAll('.filepath')) {\n",
              "          element.style.display = 'block'\n",
              "          element.onclick = (event) => {\n",
              "            event.preventDefault();\n",
              "            event.stopPropagation();\n",
              "            google.colab.files.view(element.textContent, 118);\n",
              "          };\n",
              "        }\n",
              "      }\n",
              "      for (const element of document.querySelectorAll('.function-repr-contents')) {\n",
              "        element.onclick = (event) => {\n",
              "          event.preventDefault();\n",
              "          event.stopPropagation();\n",
              "          element.classList.toggle('function-repr-contents-collapsed');\n",
              "        };\n",
              "      }\n",
              "      </script>\n",
              "      </div>"
            ]
          },
          "metadata": {},
          "execution_count": 8
        }
      ]
    },
    {
      "cell_type": "markdown",
      "source": [
        "### 3. Create a null vector of size 10.\n",
        "\n",
        "#### ✅ 출력 예시\n",
        "\n",
        "\n",
        "```\n",
        "[0. 0. 0. 0. 0. 0. 0. 0. 0. 0.]\n",
        "```\n",
        "\n"
      ],
      "metadata": {
        "id": "0lB5hLlTKb1Z"
      }
    },
    {
      "cell_type": "code",
      "source": [
        "zero_array = np.zeros(10)\n",
        "print(zero_array)"
      ],
      "metadata": {
        "id": "eK4DTjPwS_zU",
        "colab": {
          "base_uri": "https://localhost:8080/"
        },
        "outputId": "f459b3eb-f0ac-44b2-e2aa-9bab1566e20e"
      },
      "execution_count": 18,
      "outputs": [
        {
          "output_type": "stream",
          "name": "stdout",
          "text": [
            "[0. 0. 0. 0. 0. 0. 0. 0. 0. 0.]\n"
          ]
        }
      ]
    },
    {
      "cell_type": "markdown",
      "source": [
        "### 4. Create a null vector of size 10 but the fifth value which is 1.\n",
        "\n",
        "#### ✅출력 예시\n",
        "\n",
        "\n",
        "```\n",
        "[0. 0. 0. 0. 1. 0. 0. 0. 0. 0.]\n",
        "```"
      ],
      "metadata": {
        "id": "7lSSfwh6Kj5v"
      }
    },
    {
      "cell_type": "code",
      "source": [
        "zero_array[4] = 1\n",
        "print(zero_array)"
      ],
      "metadata": {
        "id": "ofohgzsTTBs6",
        "colab": {
          "base_uri": "https://localhost:8080/"
        },
        "outputId": "e7366a3f-4a62-46ee-8411-fdfdfeddf12d"
      },
      "execution_count": 19,
      "outputs": [
        {
          "output_type": "stream",
          "name": "stdout",
          "text": [
            "[0. 0. 0. 0. 1. 0. 0. 0. 0. 0.]\n"
          ]
        }
      ]
    },
    {
      "cell_type": "markdown",
      "source": [
        "### 5. Create a vector with values ranging from 10 to 49.\n",
        "\n",
        "#### ✅출력 예시\n",
        "\n",
        "\n",
        "```\n",
        "[10 11 12 13 14 15 16 17 18 19 20 21 22 23 24 25 26 27 28 29 30 31 32 33\n",
        " 34 35 36 37 38 39 40 41 42 43 44 45 46 47 48 49]\n",
        "```"
      ],
      "metadata": {
        "id": "-NeqvmpLKkdY"
      }
    },
    {
      "cell_type": "code",
      "source": [
        "array1 = np.arange(10, 50)\n",
        "print(array1)"
      ],
      "metadata": {
        "id": "oQ1Mo5W9TC0P",
        "colab": {
          "base_uri": "https://localhost:8080/"
        },
        "outputId": "0ef7cee2-8742-4870-c2ac-89ae378b061f"
      },
      "execution_count": 22,
      "outputs": [
        {
          "output_type": "stream",
          "name": "stdout",
          "text": [
            "[10 11 12 13 14 15 16 17 18 19 20 21 22 23 24 25 26 27 28 29 30 31 32 33\n",
            " 34 35 36 37 38 39 40 41 42 43 44 45 46 47 48 49]\n"
          ]
        }
      ]
    },
    {
      "cell_type": "markdown",
      "source": [
        "### 6. Reverse a vector (first element becomes last).\n",
        "\n",
        "#### ✅출력 예시\n",
        "\n",
        "\n",
        "```\n",
        "[9 8 7 6 5 4 3 2 1 0]\n",
        "```"
      ],
      "metadata": {
        "id": "B1dFQzRNLN23"
      }
    },
    {
      "cell_type": "code",
      "source": [
        "array2 = np.arange(10)\n",
        "print(array2[::-1])"
      ],
      "metadata": {
        "id": "wrpNYd4jTDsx",
        "colab": {
          "base_uri": "https://localhost:8080/"
        },
        "outputId": "ebc8bbb9-77ed-40ac-8d78-1fe9bbf38829"
      },
      "execution_count": 26,
      "outputs": [
        {
          "output_type": "stream",
          "name": "stdout",
          "text": [
            "[9 8 7 6 5 4 3 2 1 0]\n"
          ]
        }
      ]
    },
    {
      "cell_type": "markdown",
      "source": [
        "### 7. Create a 3x3 matrix with values ranging from 0 to 8.\n",
        "\n",
        "#### ✅출력 예시\n",
        "\n",
        "\n",
        "```\n",
        "[[0 1 2]\n",
        " [3 4 5]\n",
        " [6 7 8]]\n",
        "```"
      ],
      "metadata": {
        "id": "doUDUe_NLOhe"
      }
    },
    {
      "cell_type": "code",
      "source": [
        "array1d = np.arange(9)\n",
        "array2d = array1d.reshape(3, 3)\n",
        "print(array2d)"
      ],
      "metadata": {
        "id": "4g8WetkATEnw",
        "colab": {
          "base_uri": "https://localhost:8080/"
        },
        "outputId": "5087d159-3906-4482-e04e-789916640c00"
      },
      "execution_count": 27,
      "outputs": [
        {
          "output_type": "stream",
          "name": "stdout",
          "text": [
            "[[0 1 2]\n",
            " [3 4 5]\n",
            " [6 7 8]]\n"
          ]
        }
      ]
    },
    {
      "cell_type": "markdown",
      "source": [
        "### 8. Find indices of non-zero elements from [1,2,0,0,4,0].\n",
        "\n",
        "#### ✅출력 예시\n",
        "\n",
        "\n",
        "```\n",
        "(array([0, 1, 4]),)\n",
        "```"
      ],
      "metadata": {
        "id": "s-MtSq2RLzJx"
      }
    },
    {
      "cell_type": "code",
      "source": [
        "array3d = np.array([1,2,0,0,4,0])\n",
        "indices = np.nonzero(array3d)\n",
        "print(indices)"
      ],
      "metadata": {
        "id": "jw9iUP7sTL7D",
        "colab": {
          "base_uri": "https://localhost:8080/"
        },
        "outputId": "e91d0033-ebbb-40c6-e0f4-e5432d943dcb"
      },
      "execution_count": 30,
      "outputs": [
        {
          "output_type": "stream",
          "name": "stdout",
          "text": [
            "(array([0, 1, 4]),)\n"
          ]
        }
      ]
    },
    {
      "cell_type": "markdown",
      "source": [
        "### 9. Create a 3x3 identity matrix.\n",
        "\n",
        "(hint: `np.eye`)\n",
        "\n",
        "#### ✅출력 예시\n",
        "\n",
        "\n",
        "```\n",
        "[[1. 0. 0.]\n",
        " [0. 1. 0.]\n",
        " [0. 0. 1.]]\n",
        "```"
      ],
      "metadata": {
        "id": "ihRWHFUxL6ak"
      }
    },
    {
      "cell_type": "code",
      "source": [
        "identity_matrix = np.eye(3)\n",
        "print(identity_matrix)"
      ],
      "metadata": {
        "id": "fFzDGJT5TNh7",
        "colab": {
          "base_uri": "https://localhost:8080/"
        },
        "outputId": "07ed1bd4-7196-41fd-eaf0-e66015abf14b"
      },
      "execution_count": 31,
      "outputs": [
        {
          "output_type": "stream",
          "name": "stdout",
          "text": [
            "[[1. 0. 0.]\n",
            " [0. 1. 0.]\n",
            " [0. 0. 1.]]\n"
          ]
        }
      ]
    },
    {
      "cell_type": "markdown",
      "source": [
        "### 10. Create a 3x3x3 array with random values.\n",
        "\n",
        "#### ✅출력 예시\n",
        "\n",
        "\n",
        "```\n",
        "[[[0.30742852 0.26458726 0.85474383]\n",
        "  [0.80234531 0.76268902 0.91286677]\n",
        "  [0.8804109  0.51011378 0.82103555]]\n",
        "\n",
        " [[0.403753   0.83120234 0.15202655]\n",
        "  [0.75782685 0.0732058  0.48148689]\n",
        "  [0.2089428  0.44968622 0.88134184]]\n",
        "\n",
        " [[0.52251191 0.10738374 0.86279648]\n",
        "  [0.26203911 0.42157754 0.68856833]\n",
        "  [0.58133626 0.31059127 0.71354172]]]\n",
        "```"
      ],
      "metadata": {
        "id": "FvkGsY8eLPCG"
      }
    },
    {
      "cell_type": "code",
      "source": [
        "random_array = np.random.random((3, 3, 3))\n",
        "print(random_array)"
      ],
      "metadata": {
        "id": "084SAfnwTPpt",
        "colab": {
          "base_uri": "https://localhost:8080/"
        },
        "outputId": "dd78a47b-bb4b-4606-be71-537bc2c3aa98"
      },
      "execution_count": 32,
      "outputs": [
        {
          "output_type": "stream",
          "name": "stdout",
          "text": [
            "[[[0.1800323  0.26416039 0.68911499]\n",
            "  [0.46509585 0.12987254 0.07603839]\n",
            "  [0.63783201 0.26417631 0.98326746]]\n",
            "\n",
            " [[0.99423724 0.756457   0.53629721]\n",
            "  [0.16474286 0.39216221 0.32065423]\n",
            "  [0.4755735  0.12612472 0.01745256]]\n",
            "\n",
            " [[0.71859343 0.19999167 0.69894525]\n",
            "  [0.19309256 0.73862285 0.9390048 ]\n",
            "  [0.27298689 0.5632711  0.68400918]]]\n"
          ]
        }
      ]
    },
    {
      "cell_type": "markdown",
      "source": [
        "### 11. Create a 10x10 array with random values and find the minimum and maximum values.\n",
        "\n",
        "#### ✅출력 예시\n",
        "\n",
        "\n",
        "```\n",
        "0.018360924693465508 0.9990506368595156\n",
        "```"
      ],
      "metadata": {
        "id": "4-VynNt5MVYY"
      }
    },
    {
      "cell_type": "code",
      "source": [
        "arr = np.random.random((10, 10))\n",
        "min_value = arr.min()\n",
        "max_value = arr.max()\n",
        "\n",
        "print(min_value, max_value)"
      ],
      "metadata": {
        "id": "W14PP5x6TRh6",
        "colab": {
          "base_uri": "https://localhost:8080/"
        },
        "outputId": "6ca5a5e0-d670-4ef4-dca3-0b8be3079465"
      },
      "execution_count": 33,
      "outputs": [
        {
          "output_type": "stream",
          "name": "stdout",
          "text": [
            "0.026032782977324254 0.9960042947117489\n"
          ]
        }
      ]
    },
    {
      "cell_type": "markdown",
      "source": [
        "### 12. Create a random vector of size 30 and find the mean value.\n",
        "\n",
        "#### ✅출력 예시\n",
        "\n",
        "\n",
        "```\n",
        "0.46249036320403636\n",
        "```"
      ],
      "metadata": {
        "id": "cQKXmfJBMVQ_"
      }
    },
    {
      "cell_type": "code",
      "source": [
        "vec = np.random.random(30)\n",
        "mean_value = vec.mean()\n",
        "\n",
        "print(mean_value)"
      ],
      "metadata": {
        "id": "FS6ggiNJTStp",
        "colab": {
          "base_uri": "https://localhost:8080/"
        },
        "outputId": "c9329723-a095-46ac-d28b-ed1be41a92e1"
      },
      "execution_count": 34,
      "outputs": [
        {
          "output_type": "stream",
          "name": "stdout",
          "text": [
            "0.527745591271666\n"
          ]
        }
      ]
    },
    {
      "cell_type": "markdown",
      "source": [
        "### 13. Create a 2d array with 1 on the border and 0 inside. (size: 10x10)\n",
        "\n",
        "#### ✅출력 예시\n",
        "\n",
        "\n",
        "```\n",
        "[[1. 1. 1. 1. 1. 1. 1. 1. 1. 1.]\n",
        " [1. 0. 0. 0. 0. 0. 0. 0. 0. 1.]\n",
        " [1. 0. 0. 0. 0. 0. 0. 0. 0. 1.]\n",
        " [1. 0. 0. 0. 0. 0. 0. 0. 0. 1.]\n",
        " [1. 0. 0. 0. 0. 0. 0. 0. 0. 1.]\n",
        " [1. 0. 0. 0. 0. 0. 0. 0. 0. 1.]\n",
        " [1. 0. 0. 0. 0. 0. 0. 0. 0. 1.]\n",
        " [1. 0. 0. 0. 0. 0. 0. 0. 0. 1.]\n",
        " [1. 0. 0. 0. 0. 0. 0. 0. 0. 1.]\n",
        " [1. 1. 1. 1. 1. 1. 1. 1. 1. 1.]]\n",
        "```"
      ],
      "metadata": {
        "id": "QZ4h-AddMVJb"
      }
    },
    {
      "cell_type": "code",
      "source": [
        "array4 = np.ones((10, 10))\n",
        "array4[1:-1, 1:-1] = 0\n",
        "\n",
        "print(array4)"
      ],
      "metadata": {
        "id": "pKEi08edTUMt",
        "colab": {
          "base_uri": "https://localhost:8080/"
        },
        "outputId": "3f2089b8-52ef-4179-97ca-1bf802fd6686"
      },
      "execution_count": 35,
      "outputs": [
        {
          "output_type": "stream",
          "name": "stdout",
          "text": [
            "[[1. 1. 1. 1. 1. 1. 1. 1. 1. 1.]\n",
            " [1. 0. 0. 0. 0. 0. 0. 0. 0. 1.]\n",
            " [1. 0. 0. 0. 0. 0. 0. 0. 0. 1.]\n",
            " [1. 0. 0. 0. 0. 0. 0. 0. 0. 1.]\n",
            " [1. 0. 0. 0. 0. 0. 0. 0. 0. 1.]\n",
            " [1. 0. 0. 0. 0. 0. 0. 0. 0. 1.]\n",
            " [1. 0. 0. 0. 0. 0. 0. 0. 0. 1.]\n",
            " [1. 0. 0. 0. 0. 0. 0. 0. 0. 1.]\n",
            " [1. 0. 0. 0. 0. 0. 0. 0. 0. 1.]\n",
            " [1. 1. 1. 1. 1. 1. 1. 1. 1. 1.]]\n"
          ]
        }
      ]
    },
    {
      "cell_type": "markdown",
      "source": [
        "### 14. How to add a border (filled with 0's) around an existing array?\n",
        "\n",
        "(hint: 인덱싱 사용)\n",
        "\n",
        "#### ✅출력 예시\n",
        "\n",
        "\n",
        "```\n",
        "# before\n",
        "[[1. 1. 1. 1. 1.]\n",
        " [1. 1. 1. 1. 1.]\n",
        " [1. 1. 1. 1. 1.]\n",
        " [1. 1. 1. 1. 1.]\n",
        " [1. 1. 1. 1. 1.]]\n",
        "\n",
        " # after\n",
        " [[0. 0. 0. 0. 0.]\n",
        "  [0. 1. 1. 1. 0.]\n",
        "  [0. 1. 1. 1. 0.]\n",
        "  [0. 1. 1. 1. 0.]\n",
        "  [0. 0. 0. 0. 0.]]\n",
        "\n",
        "```"
      ],
      "metadata": {
        "id": "BIwX-BiSMUz_"
      }
    },
    {
      "cell_type": "code",
      "source": [
        "array5 = np.ones((5, 5))\n",
        "print(\"# before\")\n",
        "print(array5)\n",
        "\n",
        "new_arr = array5.copy()\n",
        "new_arr[[0, -1], :] = 0  # 첫 행과 마지막 행을 0으로 변경\n",
        "new_arr[:, [0, -1]] = 0  # 첫 열과 마지막 열을 0으로 변경\n",
        "\n",
        "print(\"\\n# after\")\n",
        "print(new_arr)"
      ],
      "metadata": {
        "id": "A4M1huiqTWXy",
        "colab": {
          "base_uri": "https://localhost:8080/"
        },
        "outputId": "3e08d477-5527-4a46-a7e3-ec486bb62a18"
      },
      "execution_count": 42,
      "outputs": [
        {
          "output_type": "stream",
          "name": "stdout",
          "text": [
            "# before\n",
            "[[1. 1. 1. 1. 1.]\n",
            " [1. 1. 1. 1. 1.]\n",
            " [1. 1. 1. 1. 1.]\n",
            " [1. 1. 1. 1. 1.]\n",
            " [1. 1. 1. 1. 1.]]\n",
            "\n",
            "# after\n",
            "[[0. 0. 0. 0. 0.]\n",
            " [0. 1. 1. 1. 0.]\n",
            " [0. 1. 1. 1. 0.]\n",
            " [0. 1. 1. 1. 0.]\n",
            " [0. 0. 0. 0. 0.]]\n"
          ]
        }
      ]
    },
    {
      "cell_type": "markdown",
      "source": [
        "### 15. What is the result of the following expression?\n",
        "\n",
        "(실행 후, 결과에 대한 주석 작성해주세요. ex. 출력 결과에 대한 이유)\n",
        "\n",
        "```python\n",
        "0 * np.nan\n",
        "np.nan == np.nan\n",
        "np.inf > np.nan\n",
        "np.nan - np.nan\n",
        "np.nan in set([np.nan])\n",
        "0.3 == 3 * 0.1\n",
        "```"
      ],
      "metadata": {
        "id": "tggOHEUGM9PK"
      }
    },
    {
      "cell_type": "code",
      "source": [
        "print(0 * np.nan) # 0 * nan은 nan\n",
        "print(np.nan == np.nan) # 자기자신과도 같지 않음\n",
        "print(np.inf > np.nan) # 어떤 수와 비교해도 False\n",
        "print(np.nan - np.nan) # nan 간 연산의 결과는 nan\n",
        "print(np.nan in set([np.nan])) # set은 nan을 포함함\n",
        "print(0.3 == 3 * 0.1) # 부동소수점 오차"
      ],
      "metadata": {
        "id": "RmjjLx8_TYNp",
        "colab": {
          "base_uri": "https://localhost:8080/"
        },
        "outputId": "b3996b74-867a-49a3-8803-1e45251d85b7"
      },
      "execution_count": 45,
      "outputs": [
        {
          "output_type": "stream",
          "name": "stdout",
          "text": [
            "nan\n",
            "False\n",
            "False\n",
            "nan\n",
            "True\n",
            "False\n"
          ]
        }
      ]
    },
    {
      "cell_type": "markdown",
      "source": [
        "### 16. Normalize a 5x5 random matrix.\n",
        "\n",
        "(hint: (x - mean) / std)\n",
        "\n",
        "#### ✅출력 예시\n",
        "\n",
        "\n",
        "```\n",
        "[[-1.4765971   0.9582795  -1.29910242  1.0250981  -0.79801651]\n",
        " [ 0.57945383 -1.28559078  0.02733238  0.99675052  1.2702088 ]\n",
        " [-0.08513084 -1.4686812  -0.78813593 -0.34559303 -1.15052328]\n",
        " [ 0.98183813 -1.41255344  0.37190169  1.05697419 -0.02668639]\n",
        " [-1.14466851  0.98911205  1.14499256  0.69454882  1.18478886]]\n",
        "```"
      ],
      "metadata": {
        "id": "28iOVtXXM8gA"
      }
    },
    {
      "cell_type": "code",
      "source": [
        "matrix = np.random.random((5, 5))\n",
        "\n",
        "mean = matrix.mean()\n",
        "std = matrix.std()\n",
        "\n",
        "normalized_matrix = (matrix - mean) / std\n",
        "\n",
        "print(normalized_matrix)"
      ],
      "metadata": {
        "id": "0L0IE4qOTZW4",
        "colab": {
          "base_uri": "https://localhost:8080/"
        },
        "outputId": "52608cb7-c3bc-4385-aa49-5f14a89f3c4c"
      },
      "execution_count": 46,
      "outputs": [
        {
          "output_type": "stream",
          "name": "stdout",
          "text": [
            "[[ 1.48614893 -1.22588236 -0.43880552  0.04519503  0.26710045]\n",
            " [-0.56141505 -1.18087592  1.24055944  0.15519172 -1.33112625]\n",
            " [ 0.744963    0.18629611 -0.71949092 -0.72591429  1.38063844]\n",
            " [ 1.02363589 -1.13438813  1.57791002 -1.11761625 -0.50217877]\n",
            " [ 0.2971831  -1.11928397  1.45115716  1.25042705 -1.04942892]]\n"
          ]
        }
      ]
    },
    {
      "cell_type": "markdown",
      "source": [
        "### 17. Multiply a 5x3 matrix by a 3x2 matrix. (real matrix product)\n",
        "\n",
        "#### ✅출력 예시\n",
        "\n",
        "\n",
        "```\n",
        "[[3. 3.]\n",
        " [3. 3.]\n",
        " [3. 3.]\n",
        " [3. 3.]\n",
        " [3. 3.]]\n",
        "```"
      ],
      "metadata": {
        "id": "asOmp4b5M8dx"
      }
    },
    {
      "cell_type": "code",
      "source": [
        "A = np.ones((5, 3))\n",
        "\n",
        "B = np.ones((3, 2))\n",
        "\n",
        "result = np.dot(A, B)\n",
        "\n",
        "print(result)"
      ],
      "metadata": {
        "id": "01PxOWW5Te7I",
        "colab": {
          "base_uri": "https://localhost:8080/"
        },
        "outputId": "ed624f74-4fb0-4261-d3c6-6bce8780ddd8"
      },
      "execution_count": 47,
      "outputs": [
        {
          "output_type": "stream",
          "name": "stdout",
          "text": [
            "[[3. 3.]\n",
            " [3. 3.]\n",
            " [3. 3.]\n",
            " [3. 3.]\n",
            " [3. 3.]]\n"
          ]
        }
      ]
    },
    {
      "cell_type": "markdown",
      "source": [
        "### 18. What are the result of the following expressions?\n",
        "\n",
        "(실행 후, 결과에 대한 주석 작성해주세요. ex. 출력 결과에 대한 이유)\n",
        "\n",
        "```python\n",
        "np.array(0) / np.array(0)\n",
        "np.array(0) // np.array(0)\n",
        "np.array([np.nan]).astype(int).astype(float)\n",
        "```"
      ],
      "metadata": {
        "id": "H9zVpsYuM8aR"
      }
    },
    {
      "cell_type": "code",
      "source": [
        "print(np.array(0) / np.array(0)) # 0을 0으로 나누어 nan 발생\n",
        "print(np.array(0) // np.array(0)) # 정수 나눗셈\n",
        "print(np.array([np.nan]).astype(int).astype(float)) # 시스템의 최솟값으로 처리"
      ],
      "metadata": {
        "id": "SLP--cFwTh10",
        "colab": {
          "base_uri": "https://localhost:8080/"
        },
        "outputId": "38343c02-ba70-46f2-feef-24298d3b9fc0"
      },
      "execution_count": 49,
      "outputs": [
        {
          "output_type": "stream",
          "name": "stdout",
          "text": [
            "nan\n",
            "0\n",
            "[-9.22337204e+18]\n"
          ]
        },
        {
          "output_type": "stream",
          "name": "stderr",
          "text": [
            "<ipython-input-49-b9d7199bea5a>:1: RuntimeWarning: invalid value encountered in divide\n",
            "  print(np.array(0) / np.array(0)) # 0을 0으로 나누어 nan 발생\n",
            "<ipython-input-49-b9d7199bea5a>:2: RuntimeWarning: divide by zero encountered in floor_divide\n",
            "  print(np.array(0) // np.array(0)) # 정수 나눗셈\n",
            "<ipython-input-49-b9d7199bea5a>:3: RuntimeWarning: invalid value encountered in cast\n",
            "  print(np.array([np.nan]).astype(int).astype(float)) # 시스템의 최솟값으로 처리\n"
          ]
        }
      ]
    },
    {
      "cell_type": "markdown",
      "source": [
        "### 19. Create a 5x5 matrix with row values ranging from 0 to 4.\n",
        "\n",
        "#### ✅ 출력 예시\n",
        "\n",
        "```\n",
        "[[0. 1. 2. 3. 4.]\n",
        " [0. 1. 2. 3. 4.]\n",
        " [0. 1. 2. 3. 4.]\n",
        " [0. 1. 2. 3. 4.]\n",
        " [0. 1. 2. 3. 4.]]\n",
        "```"
      ],
      "metadata": {
        "id": "fbi_T8LIO3yc"
      }
    },
    {
      "cell_type": "code",
      "source": [
        "matrix = np.tile(np.arange(5), (5, 1))\n",
        "\n",
        "print(matrix)"
      ],
      "metadata": {
        "id": "XHj8J0pLTjrf",
        "colab": {
          "base_uri": "https://localhost:8080/"
        },
        "outputId": "fb48d34a-d6b0-4e27-aff9-bafd4e4e05e9"
      },
      "execution_count": 50,
      "outputs": [
        {
          "output_type": "stream",
          "name": "stdout",
          "text": [
            "[[0 1 2 3 4]\n",
            " [0 1 2 3 4]\n",
            " [0 1 2 3 4]\n",
            " [0 1 2 3 4]\n",
            " [0 1 2 3 4]]\n"
          ]
        }
      ]
    },
    {
      "cell_type": "markdown",
      "source": [
        "### 20. Create a random vector of size 10 and sort it.\n",
        "\n",
        "#### ✅출력 예시\n",
        "\n",
        "\n",
        "```\n",
        "[0.11443045 0.16715169 0.32515597 0.38374227 0.48327044 0.78728921\n",
        " 0.80523192 0.85915686 0.96930939 0.99586525]\n",
        "\n",
        "```"
      ],
      "metadata": {
        "id": "cNRIzEzEO_Ft"
      }
    },
    {
      "cell_type": "code",
      "source": [
        "vector = np.random.random(10)\n",
        "\n",
        "sorted_vector = np.sort(vector)\n",
        "\n",
        "print(sorted_vector)"
      ],
      "metadata": {
        "id": "a3lZxnx-Tngw",
        "colab": {
          "base_uri": "https://localhost:8080/"
        },
        "outputId": "8d050707-4d5b-4c94-8a60-b0befcc7273d"
      },
      "execution_count": 51,
      "outputs": [
        {
          "output_type": "stream",
          "name": "stdout",
          "text": [
            "[0.1189879  0.16922101 0.31097825 0.35079725 0.37407762 0.4025305\n",
            " 0.54472636 0.55091396 0.62778238 0.73911354]\n"
          ]
        }
      ]
    },
    {
      "cell_type": "markdown",
      "source": [
        "## **판다스**"
      ],
      "metadata": {
        "id": "fkX-tY1oKDq5"
      }
    },
    {
      "cell_type": "markdown",
      "metadata": {
        "id": "yl7zlBgszyCS"
      },
      "source": [
        "\n",
        "### 1. Import pandas under the alias `pd`."
      ]
    },
    {
      "cell_type": "code",
      "source": [
        "import pandas as pd"
      ],
      "metadata": {
        "id": "ZiANPeHhz00W"
      },
      "execution_count": 52,
      "outputs": []
    },
    {
      "cell_type": "markdown",
      "metadata": {
        "id": "2Hk3SuquzyCU"
      },
      "source": [
        "### 2. Print the version of pandas that has been imported."
      ]
    },
    {
      "cell_type": "code",
      "source": [
        "print(pd.__version__)"
      ],
      "metadata": {
        "id": "i2NtsBbjz1x2",
        "colab": {
          "base_uri": "https://localhost:8080/"
        },
        "outputId": "e8c27a54-374e-47d6-a5f8-e2dc2a3322df"
      },
      "execution_count": 53,
      "outputs": [
        {
          "output_type": "stream",
          "name": "stdout",
          "text": [
            "2.2.2\n"
          ]
        }
      ]
    },
    {
      "cell_type": "markdown",
      "metadata": {
        "id": "oOTRFQtFzyCV"
      },
      "source": [
        "## 3~20번 문제는 아래 데이터프레임으로 진행됩니다.\n",
        "\n",
        "Consider the following Python dictionary `data` and Python list `labels`:\n",
        "\n",
        "``` python\n",
        "data = {'animal': ['cat', 'cat', 'snake', 'dog', 'dog', 'cat', 'snake', 'cat', 'dog', 'dog'],\n",
        "        'age': [2.5, 3, 0.5, np.nan, 5, 2, 4.5, np.nan, 7, 3],\n",
        "        'visits': [1, 3, 2, 3, 2, 3, 1, 1, 2, 1],\n",
        "        'priority': ['yes', 'yes', 'no', 'yes', 'no', 'no', 'no', 'yes', 'no', 'no']}\n",
        "\n",
        "labels = ['a', 'b', 'c', 'd', 'e', 'f', 'g', 'h', 'i', 'j']\n",
        "```\n"
      ]
    },
    {
      "cell_type": "markdown",
      "source": [
        "### 3. Create a DataFrame `df` from this dictionary `data` which has the index `labels`.\n"
      ],
      "metadata": {
        "id": "m_8US0jJzyCW"
      }
    },
    {
      "cell_type": "code",
      "execution_count": 56,
      "metadata": {
        "id": "7CbS_gtmzyCW",
        "colab": {
          "base_uri": "https://localhost:8080/"
        },
        "outputId": "19d2fe5e-80e7-422f-d6eb-24ed37836dca"
      },
      "outputs": [
        {
          "output_type": "stream",
          "name": "stdout",
          "text": [
            "  animal  age  visits priority\n",
            "a    cat  2.5       1      yes\n",
            "b    cat  3.0       3      yes\n",
            "c  snake  0.5       2       no\n",
            "d    dog  NaN       3      yes\n",
            "e    dog  5.0       2       no\n",
            "f    cat  2.0       3       no\n",
            "g  snake  4.5       1       no\n",
            "h    cat  NaN       1      yes\n",
            "i    dog  7.0       2       no\n",
            "j    dog  3.0       1       no\n"
          ]
        }
      ],
      "source": [
        "# 문제 풀이 전 numpy 임포트\n",
        "import numpy as np\n",
        "\n",
        "data = {'animal': ['cat', 'cat', 'snake', 'dog', 'dog', 'cat', 'snake', 'cat', 'dog', 'dog'],\n",
        "        'age': [2.5, 3, 0.5, np.nan, 5, 2, 4.5, np.nan, 7, 3],\n",
        "        'visits': [1, 3, 2, 3, 2, 3, 1, 1, 2, 1],\n",
        "        'priority': ['yes', 'yes', 'no', 'yes', 'no', 'no', 'no', 'yes', 'no', 'no']}\n",
        "\n",
        "labels = ['a', 'b', 'c', 'd', 'e', 'f', 'g', 'h', 'i', 'j']\n",
        "\n",
        "df = pd.DataFrame(data, index=labels)\n",
        "\n",
        "print(df)"
      ]
    },
    {
      "cell_type": "markdown",
      "metadata": {
        "id": "f2shsFGyzyCW"
      },
      "source": [
        "### 4. Display a summary of the basic information about this DataFrame and its data.  \n",
        "(hint: there is a single method that can be called on the DataFrame)"
      ]
    },
    {
      "cell_type": "code",
      "source": [
        "df.info()"
      ],
      "metadata": {
        "id": "BWZpEuGtz7ky",
        "colab": {
          "base_uri": "https://localhost:8080/"
        },
        "outputId": "1d372ce7-a476-481d-c7f5-4f6ee66d9857"
      },
      "execution_count": 57,
      "outputs": [
        {
          "output_type": "stream",
          "name": "stdout",
          "text": [
            "<class 'pandas.core.frame.DataFrame'>\n",
            "Index: 10 entries, a to j\n",
            "Data columns (total 4 columns):\n",
            " #   Column    Non-Null Count  Dtype  \n",
            "---  ------    --------------  -----  \n",
            " 0   animal    10 non-null     object \n",
            " 1   age       8 non-null      float64\n",
            " 2   visits    10 non-null     int64  \n",
            " 3   priority  10 non-null     object \n",
            "dtypes: float64(1), int64(1), object(2)\n",
            "memory usage: 700.0+ bytes\n"
          ]
        }
      ]
    },
    {
      "cell_type": "markdown",
      "source": [
        "### 5. Display a summary of the basic statistics about data of this DataFrame.  \n",
        "(hint: there is a single method that can be called on the DataFrame)"
      ],
      "metadata": {
        "id": "AfbkaEOyzyCX"
      }
    },
    {
      "cell_type": "code",
      "source": [
        "print(df.describe())"
      ],
      "metadata": {
        "id": "wzzc100Oz8c3",
        "colab": {
          "base_uri": "https://localhost:8080/"
        },
        "outputId": "009cf0d2-822c-4087-d09e-f3bfe3c6db1e"
      },
      "execution_count": 58,
      "outputs": [
        {
          "output_type": "stream",
          "name": "stdout",
          "text": [
            "            age     visits\n",
            "count  8.000000  10.000000\n",
            "mean   3.437500   1.900000\n",
            "std    2.007797   0.875595\n",
            "min    0.500000   1.000000\n",
            "25%    2.375000   1.000000\n",
            "50%    3.000000   2.000000\n",
            "75%    4.625000   2.750000\n",
            "max    7.000000   3.000000\n"
          ]
        }
      ]
    },
    {
      "cell_type": "markdown",
      "metadata": {
        "id": "XJ59aPcrzyCX"
      },
      "source": [
        "### 6. Return the first 3 rows of the DataFrame `df`."
      ]
    },
    {
      "cell_type": "code",
      "source": [
        "print(df.head(3))"
      ],
      "metadata": {
        "id": "vZro7sh9z_rY",
        "colab": {
          "base_uri": "https://localhost:8080/"
        },
        "outputId": "66939382-4f5f-4260-ddfe-429eba86c797"
      },
      "execution_count": 59,
      "outputs": [
        {
          "output_type": "stream",
          "name": "stdout",
          "text": [
            "  animal  age  visits priority\n",
            "a    cat  2.5       1      yes\n",
            "b    cat  3.0       3      yes\n",
            "c  snake  0.5       2       no\n"
          ]
        }
      ]
    },
    {
      "cell_type": "markdown",
      "metadata": {
        "id": "KBVp0_3ZzyCY"
      },
      "source": [
        "### 7. Select just the 'animal' and 'age' columns from the DataFrame `df`."
      ]
    },
    {
      "cell_type": "code",
      "source": [
        "df_set = df[['animal', 'age']]\n",
        "print(df_set)"
      ],
      "metadata": {
        "id": "pC6sH-1F0AJo",
        "colab": {
          "base_uri": "https://localhost:8080/"
        },
        "outputId": "073cd92e-ccc1-41ad-fbb3-d73fe598436a"
      },
      "execution_count": 60,
      "outputs": [
        {
          "output_type": "stream",
          "name": "stdout",
          "text": [
            "  animal  age\n",
            "a    cat  2.5\n",
            "b    cat  3.0\n",
            "c  snake  0.5\n",
            "d    dog  NaN\n",
            "e    dog  5.0\n",
            "f    cat  2.0\n",
            "g  snake  4.5\n",
            "h    cat  NaN\n",
            "i    dog  7.0\n",
            "j    dog  3.0\n"
          ]
        }
      ]
    },
    {
      "cell_type": "markdown",
      "metadata": {
        "id": "a1giftRYzyCY"
      },
      "source": [
        "### 8. Select the data in rows `[3, 4, 8]` **and** in columns `['animal', 'age']`."
      ]
    },
    {
      "cell_type": "code",
      "source": [],
      "metadata": {
        "id": "tkSynFGH0BLD"
      },
      "execution_count": null,
      "outputs": []
    },
    {
      "cell_type": "markdown",
      "metadata": {
        "id": "67sYTLBqzyCY"
      },
      "source": [
        "### 9. Select only the rows where the number of visits is greater than 3."
      ]
    },
    {
      "cell_type": "code",
      "source": [
        "df_selected = df.loc[df.index[[3, 4, 8]], ['animal', 'age']]\n",
        "print(df_selected)"
      ],
      "metadata": {
        "id": "d_G0WeMG0Dgd",
        "colab": {
          "base_uri": "https://localhost:8080/"
        },
        "outputId": "639da67e-3c59-4986-9148-593de39a150c"
      },
      "execution_count": 61,
      "outputs": [
        {
          "output_type": "stream",
          "name": "stdout",
          "text": [
            "  animal  age\n",
            "d    dog  NaN\n",
            "e    dog  5.0\n",
            "i    dog  7.0\n"
          ]
        }
      ]
    },
    {
      "cell_type": "markdown",
      "metadata": {
        "id": "FXX4YRWgzyCY"
      },
      "source": [
        "### 10. Select the rows where the age is missing, i.e. it is `NaN`."
      ]
    },
    {
      "cell_type": "code",
      "source": [
        "df_miss_age = df[df['age'].isna()]\n",
        "print(df_miss_age)"
      ],
      "metadata": {
        "id": "KaV4Ypkj0Ea2",
        "colab": {
          "base_uri": "https://localhost:8080/"
        },
        "outputId": "b8e6b1ef-75f1-48fd-f27f-51e9b8a64543"
      },
      "execution_count": 62,
      "outputs": [
        {
          "output_type": "stream",
          "name": "stdout",
          "text": [
            "  animal  age  visits priority\n",
            "d    dog  NaN       3      yes\n",
            "h    cat  NaN       1      yes\n"
          ]
        }
      ]
    },
    {
      "cell_type": "markdown",
      "metadata": {
        "id": "kMH5n-UBzyCZ"
      },
      "source": [
        "### 11. Select the rows where the animal is a cat *and* the age is less than 3."
      ]
    },
    {
      "cell_type": "code",
      "source": [
        "df_cat3 = df[(df['animal'] == 'cat') & (df['age'] < 3)]\n",
        "print(df_cat3)"
      ],
      "metadata": {
        "id": "8sCDh9Ez0FND",
        "colab": {
          "base_uri": "https://localhost:8080/"
        },
        "outputId": "c5dfd2e5-758b-42a0-a896-74c039dbbe5c"
      },
      "execution_count": 63,
      "outputs": [
        {
          "output_type": "stream",
          "name": "stdout",
          "text": [
            "  animal  age  visits priority\n",
            "a    cat  2.5       1      yes\n",
            "f    cat  2.0       3       no\n"
          ]
        }
      ]
    },
    {
      "cell_type": "markdown",
      "metadata": {
        "id": "62Y0JsYazyCZ"
      },
      "source": [
        "### 12. Select the rows the age is between 2 and 4 (inclusive).  \n"
      ]
    },
    {
      "cell_type": "code",
      "source": [
        "df_24 = df[(df['age'] >= 2) & (df['age'] <= 4)]\n",
        "print(df_24)"
      ],
      "metadata": {
        "id": "svjvRtgZ0G76",
        "colab": {
          "base_uri": "https://localhost:8080/"
        },
        "outputId": "0bd45fc3-5d68-4e22-9090-27a05c919daf"
      },
      "execution_count": 64,
      "outputs": [
        {
          "output_type": "stream",
          "name": "stdout",
          "text": [
            "  animal  age  visits priority\n",
            "a    cat  2.5       1      yes\n",
            "b    cat  3.0       3      yes\n",
            "f    cat  2.0       3       no\n",
            "j    dog  3.0       1       no\n"
          ]
        }
      ]
    },
    {
      "cell_type": "markdown",
      "metadata": {
        "id": "4lIGMIkPzyCZ"
      },
      "source": [
        "### 13. Change the age in row 'f' to 1.5."
      ]
    },
    {
      "cell_type": "code",
      "source": [
        "df.at['f', 'age'] = 1.5\n",
        "print(df.loc['f'])"
      ],
      "metadata": {
        "id": "h4U4A6Ai0Hvk",
        "colab": {
          "base_uri": "https://localhost:8080/"
        },
        "outputId": "f70de825-780c-4868-b298-33f74cc12282"
      },
      "execution_count": 65,
      "outputs": [
        {
          "output_type": "stream",
          "name": "stdout",
          "text": [
            "animal      cat\n",
            "age         1.5\n",
            "visits        3\n",
            "priority     no\n",
            "Name: f, dtype: object\n"
          ]
        }
      ]
    },
    {
      "cell_type": "markdown",
      "metadata": {
        "id": "FZzPr9ObzyCZ"
      },
      "source": [
        "### 14. Calculate the sum of all visits in `df` (i.e. the total number of visits)."
      ]
    },
    {
      "cell_type": "code",
      "source": [
        "total_visits = df['visits'].sum()\n",
        "print(total_visits)"
      ],
      "metadata": {
        "id": "FXLAUqR40I6C",
        "colab": {
          "base_uri": "https://localhost:8080/"
        },
        "outputId": "23ea7af4-77f8-4743-e060-d2f6d40557cf"
      },
      "execution_count": 66,
      "outputs": [
        {
          "output_type": "stream",
          "name": "stdout",
          "text": [
            "19\n"
          ]
        }
      ]
    },
    {
      "cell_type": "markdown",
      "metadata": {
        "id": "PO0xpJ_OzyCa"
      },
      "source": [
        "### 15. Calculate the mean age for each different animal in `df`."
      ]
    },
    {
      "cell_type": "code",
      "source": [
        "mean_age_animal = df.groupby('animal')['age'].mean()\n",
        "print(mean_age_animal)"
      ],
      "metadata": {
        "id": "L63WRx_20Kta",
        "colab": {
          "base_uri": "https://localhost:8080/"
        },
        "outputId": "78e8d242-2e6c-4be5-fc56-38a63183e79b"
      },
      "execution_count": 68,
      "outputs": [
        {
          "output_type": "stream",
          "name": "stdout",
          "text": [
            "animal\n",
            "cat      2.333333\n",
            "dog      5.000000\n",
            "snake    2.500000\n",
            "Name: age, dtype: float64\n"
          ]
        }
      ]
    },
    {
      "cell_type": "markdown",
      "metadata": {
        "id": "YfVdzQXIzyCa"
      },
      "source": [
        "### 16. Append a new row 'k' to `df` with your choice of values for each column. Then delete that row to return the original DataFrame."
      ]
    },
    {
      "cell_type": "code",
      "source": [
        "df.loc['k'] = ['rabbit', 2.0, 1, 'no']\n",
        "print(df)\n",
        "\n",
        "df = df.drop('k')\n",
        "print(df)"
      ],
      "metadata": {
        "id": "Per12Ekp0Mc0",
        "colab": {
          "base_uri": "https://localhost:8080/"
        },
        "outputId": "82224907-2710-4abc-9b19-d16b1f9b8fb1"
      },
      "execution_count": 69,
      "outputs": [
        {
          "output_type": "stream",
          "name": "stdout",
          "text": [
            "   animal  age  visits priority\n",
            "a     cat  2.5       1      yes\n",
            "b     cat  3.0       3      yes\n",
            "c   snake  0.5       2       no\n",
            "d     dog  NaN       3      yes\n",
            "e     dog  5.0       2       no\n",
            "f     cat  1.5       3       no\n",
            "g   snake  4.5       1       no\n",
            "h     cat  NaN       1      yes\n",
            "i     dog  7.0       2       no\n",
            "j     dog  3.0       1       no\n",
            "k  rabbit  2.0       1       no\n",
            "  animal  age  visits priority\n",
            "a    cat  2.5       1      yes\n",
            "b    cat  3.0       3      yes\n",
            "c  snake  0.5       2       no\n",
            "d    dog  NaN       3      yes\n",
            "e    dog  5.0       2       no\n",
            "f    cat  1.5       3       no\n",
            "g  snake  4.5       1       no\n",
            "h    cat  NaN       1      yes\n",
            "i    dog  7.0       2       no\n",
            "j    dog  3.0       1       no\n"
          ]
        }
      ]
    },
    {
      "cell_type": "markdown",
      "metadata": {
        "id": "tDkk_tHszyCa"
      },
      "source": [
        "### 17. Count the number of each type of animal in `df`."
      ]
    },
    {
      "cell_type": "code",
      "source": [
        "animal_counts = df['animal'].value_counts()\n",
        "print(animal_counts)"
      ],
      "metadata": {
        "id": "v21izXST0NTR",
        "colab": {
          "base_uri": "https://localhost:8080/"
        },
        "outputId": "09325711-c7bf-46b9-f6ba-9dd5b1e9ae7b"
      },
      "execution_count": 70,
      "outputs": [
        {
          "output_type": "stream",
          "name": "stdout",
          "text": [
            "animal\n",
            "cat      4\n",
            "dog      4\n",
            "snake    2\n",
            "Name: count, dtype: int64\n"
          ]
        }
      ]
    },
    {
      "cell_type": "markdown",
      "metadata": {
        "id": "cwz4s5RYzyCa"
      },
      "source": [
        "### 18. Sort `df` first by the values in the 'age' in *decending* order, then by the value in the 'visits' column in *ascending* order (so row `i` should be first, and row `d` should be last).\n",
        "#### ✅출력 예시"
      ]
    },
    {
      "cell_type": "markdown",
      "source": [
        " index |animal\t| age\t|visits|\tpriority\n",
        "---|---|---|---|---\n",
        "i|\tdog|\t7.0|\t2|\tno\n",
        "e|\tdog|\t5.0|\t2|\tno\n",
        "g|\tsnake|\t4.5|\t1|\tno\n",
        "j|\tdog|\t3.0|\t1|\tno\n",
        "b|\tcat|\t3.0|\t3|\tyes\n",
        "a|\tcat|\t2.5|\t1|\tyes\n",
        "f|\tcat|\t1.5|\t3|\tno\n",
        "c|\tsnake|\t0.5|\t2|\tno\n",
        "h|\tcat|\tNaN|\t1|\tyes\n",
        "d|\tdog|\tNaN|\t3|\tyes"
      ],
      "metadata": {
        "id": "YILpLKeqzyCa"
      }
    },
    {
      "cell_type": "code",
      "source": [
        "df_sorted = df.sort_values(by=['age', 'visits'], ascending=[False, True])\n",
        "print(df_sorted)"
      ],
      "metadata": {
        "id": "2l6Pb7T10Qpi",
        "colab": {
          "base_uri": "https://localhost:8080/"
        },
        "outputId": "64dbc30b-b9b6-40dd-baac-8f90e1288ef8"
      },
      "execution_count": 71,
      "outputs": [
        {
          "output_type": "stream",
          "name": "stdout",
          "text": [
            "  animal  age  visits priority\n",
            "i    dog  7.0       2       no\n",
            "e    dog  5.0       2       no\n",
            "g  snake  4.5       1       no\n",
            "j    dog  3.0       1       no\n",
            "b    cat  3.0       3      yes\n",
            "a    cat  2.5       1      yes\n",
            "f    cat  1.5       3       no\n",
            "c  snake  0.5       2       no\n",
            "h    cat  NaN       1      yes\n",
            "d    dog  NaN       3      yes\n"
          ]
        }
      ]
    },
    {
      "cell_type": "markdown",
      "metadata": {
        "id": "6hfE99qHzyCb"
      },
      "source": [
        "### 19. The 'priority' column contains the values 'yes' and 'no'. Replace this column with a column of boolean values: 'yes' should be `True` and 'no' should be `False`.  \n",
        "(hint: `map`)"
      ]
    },
    {
      "cell_type": "code",
      "source": [
        "df['priority'] = df['priority'].map({'yes': True, 'no': False})\n",
        "print(df)"
      ],
      "metadata": {
        "id": "lPLmBRUP0SnR",
        "colab": {
          "base_uri": "https://localhost:8080/"
        },
        "outputId": "e98bd56a-d68d-4799-e1b5-82fc7e4b63a9"
      },
      "execution_count": 72,
      "outputs": [
        {
          "output_type": "stream",
          "name": "stdout",
          "text": [
            "  animal  age  visits  priority\n",
            "a    cat  2.5       1      True\n",
            "b    cat  3.0       3      True\n",
            "c  snake  0.5       2     False\n",
            "d    dog  NaN       3      True\n",
            "e    dog  5.0       2     False\n",
            "f    cat  1.5       3     False\n",
            "g  snake  4.5       1     False\n",
            "h    cat  NaN       1      True\n",
            "i    dog  7.0       2     False\n",
            "j    dog  3.0       1     False\n"
          ]
        }
      ]
    },
    {
      "cell_type": "markdown",
      "metadata": {
        "id": "ycaIJncEzyCb"
      },
      "source": [
        "### 20. In the 'animal' column, change the 'snake' entries to 'python'.   "
      ]
    },
    {
      "cell_type": "code",
      "source": [
        "df['animal'] = df['animal'].replace('snake', 'python')\n",
        "print(df)"
      ],
      "metadata": {
        "id": "MZelDUlE0Wag",
        "colab": {
          "base_uri": "https://localhost:8080/"
        },
        "outputId": "f64bc949-2704-4029-c1db-5a6b98d43954"
      },
      "execution_count": 73,
      "outputs": [
        {
          "output_type": "stream",
          "name": "stdout",
          "text": [
            "   animal  age  visits  priority\n",
            "a     cat  2.5       1      True\n",
            "b     cat  3.0       3      True\n",
            "c  python  0.5       2     False\n",
            "d     dog  NaN       3      True\n",
            "e     dog  5.0       2     False\n",
            "f     cat  1.5       3     False\n",
            "g  python  4.5       1     False\n",
            "h     cat  NaN       1      True\n",
            "i     dog  7.0       2     False\n",
            "j     dog  3.0       1     False\n"
          ]
        }
      ]
    },
    {
      "cell_type": "code",
      "source": [
        "# 확인용 df 출력 셀\n",
        "df"
      ],
      "metadata": {
        "id": "uYFF5Jew0Xz7",
        "colab": {
          "base_uri": "https://localhost:8080/",
          "height": 363
        },
        "outputId": "841b6e1e-19bd-4705-dafc-b9b7f1c48e79"
      },
      "execution_count": 74,
      "outputs": [
        {
          "output_type": "execute_result",
          "data": {
            "text/plain": [
              "   animal  age  visits  priority\n",
              "a     cat  2.5       1      True\n",
              "b     cat  3.0       3      True\n",
              "c  python  0.5       2     False\n",
              "d     dog  NaN       3      True\n",
              "e     dog  5.0       2     False\n",
              "f     cat  1.5       3     False\n",
              "g  python  4.5       1     False\n",
              "h     cat  NaN       1      True\n",
              "i     dog  7.0       2     False\n",
              "j     dog  3.0       1     False"
            ],
            "text/html": [
              "\n",
              "  <div id=\"df-6304e880-329a-46d2-baea-cd4d06735a6b\" class=\"colab-df-container\">\n",
              "    <div>\n",
              "<style scoped>\n",
              "    .dataframe tbody tr th:only-of-type {\n",
              "        vertical-align: middle;\n",
              "    }\n",
              "\n",
              "    .dataframe tbody tr th {\n",
              "        vertical-align: top;\n",
              "    }\n",
              "\n",
              "    .dataframe thead th {\n",
              "        text-align: right;\n",
              "    }\n",
              "</style>\n",
              "<table border=\"1\" class=\"dataframe\">\n",
              "  <thead>\n",
              "    <tr style=\"text-align: right;\">\n",
              "      <th></th>\n",
              "      <th>animal</th>\n",
              "      <th>age</th>\n",
              "      <th>visits</th>\n",
              "      <th>priority</th>\n",
              "    </tr>\n",
              "  </thead>\n",
              "  <tbody>\n",
              "    <tr>\n",
              "      <th>a</th>\n",
              "      <td>cat</td>\n",
              "      <td>2.5</td>\n",
              "      <td>1</td>\n",
              "      <td>True</td>\n",
              "    </tr>\n",
              "    <tr>\n",
              "      <th>b</th>\n",
              "      <td>cat</td>\n",
              "      <td>3.0</td>\n",
              "      <td>3</td>\n",
              "      <td>True</td>\n",
              "    </tr>\n",
              "    <tr>\n",
              "      <th>c</th>\n",
              "      <td>python</td>\n",
              "      <td>0.5</td>\n",
              "      <td>2</td>\n",
              "      <td>False</td>\n",
              "    </tr>\n",
              "    <tr>\n",
              "      <th>d</th>\n",
              "      <td>dog</td>\n",
              "      <td>NaN</td>\n",
              "      <td>3</td>\n",
              "      <td>True</td>\n",
              "    </tr>\n",
              "    <tr>\n",
              "      <th>e</th>\n",
              "      <td>dog</td>\n",
              "      <td>5.0</td>\n",
              "      <td>2</td>\n",
              "      <td>False</td>\n",
              "    </tr>\n",
              "    <tr>\n",
              "      <th>f</th>\n",
              "      <td>cat</td>\n",
              "      <td>1.5</td>\n",
              "      <td>3</td>\n",
              "      <td>False</td>\n",
              "    </tr>\n",
              "    <tr>\n",
              "      <th>g</th>\n",
              "      <td>python</td>\n",
              "      <td>4.5</td>\n",
              "      <td>1</td>\n",
              "      <td>False</td>\n",
              "    </tr>\n",
              "    <tr>\n",
              "      <th>h</th>\n",
              "      <td>cat</td>\n",
              "      <td>NaN</td>\n",
              "      <td>1</td>\n",
              "      <td>True</td>\n",
              "    </tr>\n",
              "    <tr>\n",
              "      <th>i</th>\n",
              "      <td>dog</td>\n",
              "      <td>7.0</td>\n",
              "      <td>2</td>\n",
              "      <td>False</td>\n",
              "    </tr>\n",
              "    <tr>\n",
              "      <th>j</th>\n",
              "      <td>dog</td>\n",
              "      <td>3.0</td>\n",
              "      <td>1</td>\n",
              "      <td>False</td>\n",
              "    </tr>\n",
              "  </tbody>\n",
              "</table>\n",
              "</div>\n",
              "    <div class=\"colab-df-buttons\">\n",
              "\n",
              "  <div class=\"colab-df-container\">\n",
              "    <button class=\"colab-df-convert\" onclick=\"convertToInteractive('df-6304e880-329a-46d2-baea-cd4d06735a6b')\"\n",
              "            title=\"Convert this dataframe to an interactive table.\"\n",
              "            style=\"display:none;\">\n",
              "\n",
              "  <svg xmlns=\"http://www.w3.org/2000/svg\" height=\"24px\" viewBox=\"0 -960 960 960\">\n",
              "    <path d=\"M120-120v-720h720v720H120Zm60-500h600v-160H180v160Zm220 220h160v-160H400v160Zm0 220h160v-160H400v160ZM180-400h160v-160H180v160Zm440 0h160v-160H620v160ZM180-180h160v-160H180v160Zm440 0h160v-160H620v160Z\"/>\n",
              "  </svg>\n",
              "    </button>\n",
              "\n",
              "  <style>\n",
              "    .colab-df-container {\n",
              "      display:flex;\n",
              "      gap: 12px;\n",
              "    }\n",
              "\n",
              "    .colab-df-convert {\n",
              "      background-color: #E8F0FE;\n",
              "      border: none;\n",
              "      border-radius: 50%;\n",
              "      cursor: pointer;\n",
              "      display: none;\n",
              "      fill: #1967D2;\n",
              "      height: 32px;\n",
              "      padding: 0 0 0 0;\n",
              "      width: 32px;\n",
              "    }\n",
              "\n",
              "    .colab-df-convert:hover {\n",
              "      background-color: #E2EBFA;\n",
              "      box-shadow: 0px 1px 2px rgba(60, 64, 67, 0.3), 0px 1px 3px 1px rgba(60, 64, 67, 0.15);\n",
              "      fill: #174EA6;\n",
              "    }\n",
              "\n",
              "    .colab-df-buttons div {\n",
              "      margin-bottom: 4px;\n",
              "    }\n",
              "\n",
              "    [theme=dark] .colab-df-convert {\n",
              "      background-color: #3B4455;\n",
              "      fill: #D2E3FC;\n",
              "    }\n",
              "\n",
              "    [theme=dark] .colab-df-convert:hover {\n",
              "      background-color: #434B5C;\n",
              "      box-shadow: 0px 1px 3px 1px rgba(0, 0, 0, 0.15);\n",
              "      filter: drop-shadow(0px 1px 2px rgba(0, 0, 0, 0.3));\n",
              "      fill: #FFFFFF;\n",
              "    }\n",
              "  </style>\n",
              "\n",
              "    <script>\n",
              "      const buttonEl =\n",
              "        document.querySelector('#df-6304e880-329a-46d2-baea-cd4d06735a6b button.colab-df-convert');\n",
              "      buttonEl.style.display =\n",
              "        google.colab.kernel.accessAllowed ? 'block' : 'none';\n",
              "\n",
              "      async function convertToInteractive(key) {\n",
              "        const element = document.querySelector('#df-6304e880-329a-46d2-baea-cd4d06735a6b');\n",
              "        const dataTable =\n",
              "          await google.colab.kernel.invokeFunction('convertToInteractive',\n",
              "                                                    [key], {});\n",
              "        if (!dataTable) return;\n",
              "\n",
              "        const docLinkHtml = 'Like what you see? Visit the ' +\n",
              "          '<a target=\"_blank\" href=https://colab.research.google.com/notebooks/data_table.ipynb>data table notebook</a>'\n",
              "          + ' to learn more about interactive tables.';\n",
              "        element.innerHTML = '';\n",
              "        dataTable['output_type'] = 'display_data';\n",
              "        await google.colab.output.renderOutput(dataTable, element);\n",
              "        const docLink = document.createElement('div');\n",
              "        docLink.innerHTML = docLinkHtml;\n",
              "        element.appendChild(docLink);\n",
              "      }\n",
              "    </script>\n",
              "  </div>\n",
              "\n",
              "\n",
              "<div id=\"df-03fe1fd9-4c61-455c-a34c-30a959da489d\">\n",
              "  <button class=\"colab-df-quickchart\" onclick=\"quickchart('df-03fe1fd9-4c61-455c-a34c-30a959da489d')\"\n",
              "            title=\"Suggest charts\"\n",
              "            style=\"display:none;\">\n",
              "\n",
              "<svg xmlns=\"http://www.w3.org/2000/svg\" height=\"24px\"viewBox=\"0 0 24 24\"\n",
              "     width=\"24px\">\n",
              "    <g>\n",
              "        <path d=\"M19 3H5c-1.1 0-2 .9-2 2v14c0 1.1.9 2 2 2h14c1.1 0 2-.9 2-2V5c0-1.1-.9-2-2-2zM9 17H7v-7h2v7zm4 0h-2V7h2v10zm4 0h-2v-4h2v4z\"/>\n",
              "    </g>\n",
              "</svg>\n",
              "  </button>\n",
              "\n",
              "<style>\n",
              "  .colab-df-quickchart {\n",
              "      --bg-color: #E8F0FE;\n",
              "      --fill-color: #1967D2;\n",
              "      --hover-bg-color: #E2EBFA;\n",
              "      --hover-fill-color: #174EA6;\n",
              "      --disabled-fill-color: #AAA;\n",
              "      --disabled-bg-color: #DDD;\n",
              "  }\n",
              "\n",
              "  [theme=dark] .colab-df-quickchart {\n",
              "      --bg-color: #3B4455;\n",
              "      --fill-color: #D2E3FC;\n",
              "      --hover-bg-color: #434B5C;\n",
              "      --hover-fill-color: #FFFFFF;\n",
              "      --disabled-bg-color: #3B4455;\n",
              "      --disabled-fill-color: #666;\n",
              "  }\n",
              "\n",
              "  .colab-df-quickchart {\n",
              "    background-color: var(--bg-color);\n",
              "    border: none;\n",
              "    border-radius: 50%;\n",
              "    cursor: pointer;\n",
              "    display: none;\n",
              "    fill: var(--fill-color);\n",
              "    height: 32px;\n",
              "    padding: 0;\n",
              "    width: 32px;\n",
              "  }\n",
              "\n",
              "  .colab-df-quickchart:hover {\n",
              "    background-color: var(--hover-bg-color);\n",
              "    box-shadow: 0 1px 2px rgba(60, 64, 67, 0.3), 0 1px 3px 1px rgba(60, 64, 67, 0.15);\n",
              "    fill: var(--button-hover-fill-color);\n",
              "  }\n",
              "\n",
              "  .colab-df-quickchart-complete:disabled,\n",
              "  .colab-df-quickchart-complete:disabled:hover {\n",
              "    background-color: var(--disabled-bg-color);\n",
              "    fill: var(--disabled-fill-color);\n",
              "    box-shadow: none;\n",
              "  }\n",
              "\n",
              "  .colab-df-spinner {\n",
              "    border: 2px solid var(--fill-color);\n",
              "    border-color: transparent;\n",
              "    border-bottom-color: var(--fill-color);\n",
              "    animation:\n",
              "      spin 1s steps(1) infinite;\n",
              "  }\n",
              "\n",
              "  @keyframes spin {\n",
              "    0% {\n",
              "      border-color: transparent;\n",
              "      border-bottom-color: var(--fill-color);\n",
              "      border-left-color: var(--fill-color);\n",
              "    }\n",
              "    20% {\n",
              "      border-color: transparent;\n",
              "      border-left-color: var(--fill-color);\n",
              "      border-top-color: var(--fill-color);\n",
              "    }\n",
              "    30% {\n",
              "      border-color: transparent;\n",
              "      border-left-color: var(--fill-color);\n",
              "      border-top-color: var(--fill-color);\n",
              "      border-right-color: var(--fill-color);\n",
              "    }\n",
              "    40% {\n",
              "      border-color: transparent;\n",
              "      border-right-color: var(--fill-color);\n",
              "      border-top-color: var(--fill-color);\n",
              "    }\n",
              "    60% {\n",
              "      border-color: transparent;\n",
              "      border-right-color: var(--fill-color);\n",
              "    }\n",
              "    80% {\n",
              "      border-color: transparent;\n",
              "      border-right-color: var(--fill-color);\n",
              "      border-bottom-color: var(--fill-color);\n",
              "    }\n",
              "    90% {\n",
              "      border-color: transparent;\n",
              "      border-bottom-color: var(--fill-color);\n",
              "    }\n",
              "  }\n",
              "</style>\n",
              "\n",
              "  <script>\n",
              "    async function quickchart(key) {\n",
              "      const quickchartButtonEl =\n",
              "        document.querySelector('#' + key + ' button');\n",
              "      quickchartButtonEl.disabled = true;  // To prevent multiple clicks.\n",
              "      quickchartButtonEl.classList.add('colab-df-spinner');\n",
              "      try {\n",
              "        const charts = await google.colab.kernel.invokeFunction(\n",
              "            'suggestCharts', [key], {});\n",
              "      } catch (error) {\n",
              "        console.error('Error during call to suggestCharts:', error);\n",
              "      }\n",
              "      quickchartButtonEl.classList.remove('colab-df-spinner');\n",
              "      quickchartButtonEl.classList.add('colab-df-quickchart-complete');\n",
              "    }\n",
              "    (() => {\n",
              "      let quickchartButtonEl =\n",
              "        document.querySelector('#df-03fe1fd9-4c61-455c-a34c-30a959da489d button');\n",
              "      quickchartButtonEl.style.display =\n",
              "        google.colab.kernel.accessAllowed ? 'block' : 'none';\n",
              "    })();\n",
              "  </script>\n",
              "</div>\n",
              "\n",
              "  <div id=\"id_26250840-4ee7-4215-b3f9-379959d15ba5\">\n",
              "    <style>\n",
              "      .colab-df-generate {\n",
              "        background-color: #E8F0FE;\n",
              "        border: none;\n",
              "        border-radius: 50%;\n",
              "        cursor: pointer;\n",
              "        display: none;\n",
              "        fill: #1967D2;\n",
              "        height: 32px;\n",
              "        padding: 0 0 0 0;\n",
              "        width: 32px;\n",
              "      }\n",
              "\n",
              "      .colab-df-generate:hover {\n",
              "        background-color: #E2EBFA;\n",
              "        box-shadow: 0px 1px 2px rgba(60, 64, 67, 0.3), 0px 1px 3px 1px rgba(60, 64, 67, 0.15);\n",
              "        fill: #174EA6;\n",
              "      }\n",
              "\n",
              "      [theme=dark] .colab-df-generate {\n",
              "        background-color: #3B4455;\n",
              "        fill: #D2E3FC;\n",
              "      }\n",
              "\n",
              "      [theme=dark] .colab-df-generate:hover {\n",
              "        background-color: #434B5C;\n",
              "        box-shadow: 0px 1px 3px 1px rgba(0, 0, 0, 0.15);\n",
              "        filter: drop-shadow(0px 1px 2px rgba(0, 0, 0, 0.3));\n",
              "        fill: #FFFFFF;\n",
              "      }\n",
              "    </style>\n",
              "    <button class=\"colab-df-generate\" onclick=\"generateWithVariable('df')\"\n",
              "            title=\"Generate code using this dataframe.\"\n",
              "            style=\"display:none;\">\n",
              "\n",
              "  <svg xmlns=\"http://www.w3.org/2000/svg\" height=\"24px\"viewBox=\"0 0 24 24\"\n",
              "       width=\"24px\">\n",
              "    <path d=\"M7,19H8.4L18.45,9,17,7.55,7,17.6ZM5,21V16.75L18.45,3.32a2,2,0,0,1,2.83,0l1.4,1.43a1.91,1.91,0,0,1,.58,1.4,1.91,1.91,0,0,1-.58,1.4L9.25,21ZM18.45,9,17,7.55Zm-12,3A5.31,5.31,0,0,0,4.9,8.1,5.31,5.31,0,0,0,1,6.5,5.31,5.31,0,0,0,4.9,4.9,5.31,5.31,0,0,0,6.5,1,5.31,5.31,0,0,0,8.1,4.9,5.31,5.31,0,0,0,12,6.5,5.46,5.46,0,0,0,6.5,12Z\"/>\n",
              "  </svg>\n",
              "    </button>\n",
              "    <script>\n",
              "      (() => {\n",
              "      const buttonEl =\n",
              "        document.querySelector('#id_26250840-4ee7-4215-b3f9-379959d15ba5 button.colab-df-generate');\n",
              "      buttonEl.style.display =\n",
              "        google.colab.kernel.accessAllowed ? 'block' : 'none';\n",
              "\n",
              "      buttonEl.onclick = () => {\n",
              "        google.colab.notebook.generateWithVariable('df');\n",
              "      }\n",
              "      })();\n",
              "    </script>\n",
              "  </div>\n",
              "\n",
              "    </div>\n",
              "  </div>\n"
            ],
            "application/vnd.google.colaboratory.intrinsic+json": {
              "type": "dataframe",
              "variable_name": "df",
              "summary": "{\n  \"name\": \"df\",\n  \"rows\": 10,\n  \"fields\": [\n    {\n      \"column\": \"animal\",\n      \"properties\": {\n        \"dtype\": \"category\",\n        \"num_unique_values\": 3,\n        \"samples\": [\n          \"cat\",\n          \"python\",\n          \"dog\"\n        ],\n        \"semantic_type\": \"\",\n        \"description\": \"\"\n      }\n    },\n    {\n      \"column\": \"age\",\n      \"properties\": {\n        \"dtype\": \"number\",\n        \"std\": 2.065879266282796,\n        \"min\": 0.5,\n        \"max\": 7.0,\n        \"num_unique_values\": 7,\n        \"samples\": [\n          2.5,\n          3.0,\n          4.5\n        ],\n        \"semantic_type\": \"\",\n        \"description\": \"\"\n      }\n    },\n    {\n      \"column\": \"visits\",\n      \"properties\": {\n        \"dtype\": \"number\",\n        \"std\": 0,\n        \"min\": 1,\n        \"max\": 3,\n        \"num_unique_values\": 3,\n        \"samples\": [\n          1,\n          3,\n          2\n        ],\n        \"semantic_type\": \"\",\n        \"description\": \"\"\n      }\n    },\n    {\n      \"column\": \"priority\",\n      \"properties\": {\n        \"dtype\": \"boolean\",\n        \"num_unique_values\": 2,\n        \"samples\": [\n          false,\n          true\n        ],\n        \"semantic_type\": \"\",\n        \"description\": \"\"\n      }\n    }\n  ]\n}"
            }
          },
          "metadata": {},
          "execution_count": 74
        }
      ]
    },
    {
      "cell_type": "markdown",
      "metadata": {
        "id": "5YmjKvYizyCb"
      },
      "source": [
        "### 21. Given a DataFrame of random numeric values:\n",
        "```python\n",
        "df = pd.DataFrame(np.random.random(size=(5, 3))) # this is a 5x3 DataFrame of float values\n",
        "```\n",
        "\n",
        "how do you subtract the row mean from each element in the row?"
      ]
    },
    {
      "cell_type": "code",
      "source": [
        "# 랜덤 시드 고정\n",
        "np.random.seed(2025)\n",
        "\n",
        "df = pd.DataFrame(np.random.random(size=(5, 3)))\n",
        "\n",
        "df_centered = df.sub(df.mean(axis=1), axis=0)\n",
        "\n",
        "print(df_centered)\n"
      ],
      "metadata": {
        "id": "EeAkDWv40e9J",
        "colab": {
          "base_uri": "https://localhost:8080/"
        },
        "outputId": "569fd39a-e378-4897-d2a7-079b46eb7a6e"
      },
      "execution_count": 75,
      "outputs": [
        {
          "output_type": "stream",
          "name": "stdout",
          "text": [
            "          0         1         2\n",
            "0 -0.516494  0.235870  0.280624\n",
            "1  0.081768  0.024435 -0.106204\n",
            "2 -0.047373 -0.212124  0.259497\n",
            "3  0.115235 -0.230544  0.115309\n",
            "4 -0.229731  0.498009 -0.268278\n"
          ]
        }
      ]
    },
    {
      "cell_type": "code",
      "source": [],
      "metadata": {
        "id": "Z24qNGpgKEVi"
      },
      "execution_count": null,
      "outputs": []
    }
  ]
}